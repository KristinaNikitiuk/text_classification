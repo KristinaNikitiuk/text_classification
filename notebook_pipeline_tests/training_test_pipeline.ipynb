{
 "cells": [
  {
   "cell_type": "code",
   "execution_count": 3,
   "id": "ab4ce569-d0ac-4fec-9437-c802f973d0b1",
   "metadata": {
    "tags": []
   },
   "outputs": [
    {
     "name": "stdout",
     "output_type": "stream",
     "text": [
      "Collecting amazon-textract-caller\n",
      "  Obtaining dependency information for amazon-textract-caller from https://files.pythonhosted.org/packages/4e/71/3de11e92cf7935511fd8023e16b6b3aa4d3316bf385f0f622706882c4450/amazon_textract_caller-0.2.1-py2.py3-none-any.whl.metadata\n",
      "  Using cached amazon_textract_caller-0.2.1-py2.py3-none-any.whl.metadata (7.1 kB)\n",
      "Requirement already satisfied: boto3>=1.26.35 in /opt/conda/lib/python3.10/site-packages (from amazon-textract-caller) (1.28.63)\n",
      "Requirement already satisfied: botocore in /opt/conda/lib/python3.10/site-packages (from amazon-textract-caller) (1.31.63)\n",
      "Collecting amazon-textract-response-parser>=0.1.39 (from amazon-textract-caller)\n",
      "  Obtaining dependency information for amazon-textract-response-parser>=0.1.39 from https://files.pythonhosted.org/packages/8f/9c/3e8fabe2c546aa3f8d052ef0ad3c425de184d7876ecabb38d87ed836378c/amazon_textract_response_parser-1.0.2-py2.py3-none-any.whl.metadata\n",
      "  Using cached amazon_textract_response_parser-1.0.2-py2.py3-none-any.whl.metadata (11 kB)\n",
      "Collecting marshmallow<4,>=3.14 (from amazon-textract-response-parser>=0.1.39->amazon-textract-caller)\n",
      "  Obtaining dependency information for marshmallow<4,>=3.14 from https://files.pythonhosted.org/packages/ed/3c/cebfdcad015240014ff08b883d1c0c427f2ba45ae8c6572851b6ef136cad/marshmallow-3.20.1-py3-none-any.whl.metadata\n",
      "  Using cached marshmallow-3.20.1-py3-none-any.whl.metadata (7.8 kB)\n",
      "Requirement already satisfied: jmespath<2.0.0,>=0.7.1 in /opt/conda/lib/python3.10/site-packages (from boto3>=1.26.35->amazon-textract-caller) (0.10.0)\n",
      "Requirement already satisfied: s3transfer<0.8.0,>=0.7.0 in /opt/conda/lib/python3.10/site-packages (from boto3>=1.26.35->amazon-textract-caller) (0.7.0)\n",
      "Requirement already satisfied: python-dateutil<3.0.0,>=2.1 in /opt/conda/lib/python3.10/site-packages (from botocore->amazon-textract-caller) (2.8.2)\n",
      "Requirement already satisfied: urllib3<2.1,>=1.25.4 in /opt/conda/lib/python3.10/site-packages (from botocore->amazon-textract-caller) (2.0.6)\n",
      "Requirement already satisfied: packaging>=17.0 in /opt/conda/lib/python3.10/site-packages (from marshmallow<4,>=3.14->amazon-textract-response-parser>=0.1.39->amazon-textract-caller) (21.3)\n",
      "Requirement already satisfied: six>=1.5 in /opt/conda/lib/python3.10/site-packages (from python-dateutil<3.0.0,>=2.1->botocore->amazon-textract-caller) (1.16.0)\n",
      "Requirement already satisfied: pyparsing!=3.0.5,>=2.0.2 in /opt/conda/lib/python3.10/site-packages (from packaging>=17.0->marshmallow<4,>=3.14->amazon-textract-response-parser>=0.1.39->amazon-textract-caller) (3.0.9)\n",
      "Using cached amazon_textract_caller-0.2.1-py2.py3-none-any.whl (13 kB)\n",
      "Using cached amazon_textract_response_parser-1.0.2-py2.py3-none-any.whl (29 kB)\n",
      "Using cached marshmallow-3.20.1-py3-none-any.whl (49 kB)\n",
      "Installing collected packages: marshmallow, amazon-textract-response-parser, amazon-textract-caller\n",
      "Successfully installed amazon-textract-caller-0.2.1 amazon-textract-response-parser-1.0.2 marshmallow-3.20.1\n",
      "\u001b[33mWARNING: Running pip as the 'root' user can result in broken permissions and conflicting behaviour with the system package manager. It is recommended to use a virtual environment instead: https://pip.pypa.io/warnings/venv\u001b[0m\u001b[33m\n",
      "\u001b[0m\n",
      "\u001b[1m[\u001b[0m\u001b[34;49mnotice\u001b[0m\u001b[1;39;49m]\u001b[0m\u001b[39;49m A new release of pip is available: \u001b[0m\u001b[31;49m23.2.1\u001b[0m\u001b[39;49m -> \u001b[0m\u001b[32;49m23.3.1\u001b[0m\n",
      "\u001b[1m[\u001b[0m\u001b[34;49mnotice\u001b[0m\u001b[1;39;49m]\u001b[0m\u001b[39;49m To update, run: \u001b[0m\u001b[32;49mpip install --upgrade pip\u001b[0m\n",
      "Requirement already satisfied: amazon-textract-response-parser in /opt/conda/lib/python3.10/site-packages (1.0.2)\n",
      "Requirement already satisfied: boto3 in /opt/conda/lib/python3.10/site-packages (from amazon-textract-response-parser) (1.28.63)\n",
      "Requirement already satisfied: marshmallow<4,>=3.14 in /opt/conda/lib/python3.10/site-packages (from amazon-textract-response-parser) (3.20.1)\n",
      "Requirement already satisfied: packaging>=17.0 in /opt/conda/lib/python3.10/site-packages (from marshmallow<4,>=3.14->amazon-textract-response-parser) (21.3)\n",
      "Requirement already satisfied: botocore<1.32.0,>=1.31.63 in /opt/conda/lib/python3.10/site-packages (from boto3->amazon-textract-response-parser) (1.31.63)\n",
      "Requirement already satisfied: jmespath<2.0.0,>=0.7.1 in /opt/conda/lib/python3.10/site-packages (from boto3->amazon-textract-response-parser) (0.10.0)\n",
      "Requirement already satisfied: s3transfer<0.8.0,>=0.7.0 in /opt/conda/lib/python3.10/site-packages (from boto3->amazon-textract-response-parser) (0.7.0)\n",
      "Requirement already satisfied: python-dateutil<3.0.0,>=2.1 in /opt/conda/lib/python3.10/site-packages (from botocore<1.32.0,>=1.31.63->boto3->amazon-textract-response-parser) (2.8.2)\n",
      "Requirement already satisfied: urllib3<2.1,>=1.25.4 in /opt/conda/lib/python3.10/site-packages (from botocore<1.32.0,>=1.31.63->boto3->amazon-textract-response-parser) (2.0.6)\n",
      "Requirement already satisfied: pyparsing!=3.0.5,>=2.0.2 in /opt/conda/lib/python3.10/site-packages (from packaging>=17.0->marshmallow<4,>=3.14->amazon-textract-response-parser) (3.0.9)\n",
      "Requirement already satisfied: six>=1.5 in /opt/conda/lib/python3.10/site-packages (from python-dateutil<3.0.0,>=2.1->botocore<1.32.0,>=1.31.63->boto3->amazon-textract-response-parser) (1.16.0)\n",
      "\u001b[33mWARNING: Running pip as the 'root' user can result in broken permissions and conflicting behaviour with the system package manager. It is recommended to use a virtual environment instead: https://pip.pypa.io/warnings/venv\u001b[0m\u001b[33m\n",
      "\u001b[0m\n",
      "\u001b[1m[\u001b[0m\u001b[34;49mnotice\u001b[0m\u001b[1;39;49m]\u001b[0m\u001b[39;49m A new release of pip is available: \u001b[0m\u001b[31;49m23.2.1\u001b[0m\u001b[39;49m -> \u001b[0m\u001b[32;49m23.3.1\u001b[0m\n",
      "\u001b[1m[\u001b[0m\u001b[34;49mnotice\u001b[0m\u001b[1;39;49m]\u001b[0m\u001b[39;49m To update, run: \u001b[0m\u001b[32;49mpip install --upgrade pip\u001b[0m\n",
      "Collecting s3path\n",
      "  Obtaining dependency information for s3path from https://files.pythonhosted.org/packages/f7/c1/c1d373cf031c5e791a04400cdfb2fab27f2cb9cea91d7dd9eed799e6fdfe/s3path-0.5.0-py3-none-any.whl.metadata\n",
      "  Using cached s3path-0.5.0-py3-none-any.whl.metadata (5.8 kB)\n",
      "Requirement already satisfied: boto3>=1.16.35 in /opt/conda/lib/python3.10/site-packages (from s3path) (1.28.63)\n",
      "Requirement already satisfied: smart-open in /opt/conda/lib/python3.10/site-packages (from s3path) (5.2.1)\n",
      "Requirement already satisfied: botocore<1.32.0,>=1.31.63 in /opt/conda/lib/python3.10/site-packages (from boto3>=1.16.35->s3path) (1.31.63)\n",
      "Requirement already satisfied: jmespath<2.0.0,>=0.7.1 in /opt/conda/lib/python3.10/site-packages (from boto3>=1.16.35->s3path) (0.10.0)\n",
      "Requirement already satisfied: s3transfer<0.8.0,>=0.7.0 in /opt/conda/lib/python3.10/site-packages (from boto3>=1.16.35->s3path) (0.7.0)\n",
      "Requirement already satisfied: python-dateutil<3.0.0,>=2.1 in /opt/conda/lib/python3.10/site-packages (from botocore<1.32.0,>=1.31.63->boto3>=1.16.35->s3path) (2.8.2)\n",
      "Requirement already satisfied: urllib3<2.1,>=1.25.4 in /opt/conda/lib/python3.10/site-packages (from botocore<1.32.0,>=1.31.63->boto3>=1.16.35->s3path) (2.0.6)\n",
      "Requirement already satisfied: six>=1.5 in /opt/conda/lib/python3.10/site-packages (from python-dateutil<3.0.0,>=2.1->botocore<1.32.0,>=1.31.63->boto3>=1.16.35->s3path) (1.16.0)\n",
      "Using cached s3path-0.5.0-py3-none-any.whl (17 kB)\n",
      "Installing collected packages: s3path\n",
      "Successfully installed s3path-0.5.0\n",
      "\u001b[33mWARNING: Running pip as the 'root' user can result in broken permissions and conflicting behaviour with the system package manager. It is recommended to use a virtual environment instead: https://pip.pypa.io/warnings/venv\u001b[0m\u001b[33m\n",
      "\u001b[0m\n",
      "\u001b[1m[\u001b[0m\u001b[34;49mnotice\u001b[0m\u001b[1;39;49m]\u001b[0m\u001b[39;49m A new release of pip is available: \u001b[0m\u001b[31;49m23.2.1\u001b[0m\u001b[39;49m -> \u001b[0m\u001b[32;49m23.3.1\u001b[0m\n",
      "\u001b[1m[\u001b[0m\u001b[34;49mnotice\u001b[0m\u001b[1;39;49m]\u001b[0m\u001b[39;49m To update, run: \u001b[0m\u001b[32;49mpip install --upgrade pip\u001b[0m\n",
      "Note: you may need to restart the kernel to use updated packages.\n",
      "Requirement already satisfied: s3fs in /opt/conda/lib/python3.10/site-packages (0.4.2)\n",
      "Requirement already satisfied: botocore>=1.12.91 in /opt/conda/lib/python3.10/site-packages (from s3fs) (1.31.63)\n",
      "Requirement already satisfied: fsspec>=0.6.0 in /opt/conda/lib/python3.10/site-packages (from s3fs) (2022.7.1)\n",
      "Requirement already satisfied: jmespath<2.0.0,>=0.7.1 in /opt/conda/lib/python3.10/site-packages (from botocore>=1.12.91->s3fs) (0.10.0)\n",
      "Requirement already satisfied: python-dateutil<3.0.0,>=2.1 in /opt/conda/lib/python3.10/site-packages (from botocore>=1.12.91->s3fs) (2.8.2)\n",
      "Requirement already satisfied: urllib3<2.1,>=1.25.4 in /opt/conda/lib/python3.10/site-packages (from botocore>=1.12.91->s3fs) (2.0.6)\n",
      "Requirement already satisfied: six>=1.5 in /opt/conda/lib/python3.10/site-packages (from python-dateutil<3.0.0,>=2.1->botocore>=1.12.91->s3fs) (1.16.0)\n",
      "\u001b[33mWARNING: Running pip as the 'root' user can result in broken permissions and conflicting behaviour with the system package manager. It is recommended to use a virtual environment instead: https://pip.pypa.io/warnings/venv\u001b[0m\u001b[33m\n",
      "\u001b[0m\n",
      "\u001b[1m[\u001b[0m\u001b[34;49mnotice\u001b[0m\u001b[1;39;49m]\u001b[0m\u001b[39;49m A new release of pip is available: \u001b[0m\u001b[31;49m23.2.1\u001b[0m\u001b[39;49m -> \u001b[0m\u001b[32;49m23.3.1\u001b[0m\n",
      "\u001b[1m[\u001b[0m\u001b[34;49mnotice\u001b[0m\u001b[1;39;49m]\u001b[0m\u001b[39;49m To update, run: \u001b[0m\u001b[32;49mpip install --upgrade pip\u001b[0m\n",
      "Note: you may need to restart the kernel to use updated packages.\n"
     ]
    }
   ],
   "source": [
    "!python -m pip install amazon-textract-caller --upgrade\n",
    "!python -m pip install amazon-textract-response-parser --upgrade\n",
    "%pip install s3path\n",
    "%pip install s3fs\n",
    "%load_ext autoreload\n",
    "%autoreload 2"
   ]
  },
  {
   "cell_type": "code",
   "execution_count": 4,
   "id": "4d81f364-e948-44fb-8cc1-2c4cbdb98a95",
   "metadata": {
    "tags": []
   },
   "outputs": [],
   "source": [
    "import boto3\n",
    "from sagemaker.sklearn.processing import SKLearnProcessor\n",
    "from sagemaker.workflow.lambda_step import (\n",
    "    LambdaStep,\n",
    ")\n",
    "from sagemaker.lambda_helper import Lambda\n",
    "from sagemaker.processing import ProcessingInput, ProcessingOutput\n",
    "from sagemaker.workflow.steps import ProcessingStep\n",
    "from sagemaker.workflow.properties import PropertyFile\n",
    "from sagemaker.workflow.parameters import ParameterInteger, ParameterString\n",
    "\n",
    "sagemaker_session = boto3.session.Session()\n",
    "region = sagemaker_session.region_name\n"
   ]
  },
  {
   "cell_type": "code",
   "execution_count": 5,
   "id": "688bac57-3685-44bc-8dbf-98ec83aa1b94",
   "metadata": {
    "tags": []
   },
   "outputs": [],
   "source": [
    "role_arn = 'arn:aws:iam::823254927476:role/service-role/AmazonSageMaker-ExecutionRole-20231102T173201'"
   ]
  },
  {
   "cell_type": "code",
   "execution_count": 6,
   "id": "e6a7255c-0897-42ff-817a-fc5dc2eb453b",
   "metadata": {
    "tags": []
   },
   "outputs": [],
   "source": [
    "processing_instance_count = ParameterInteger(name=\"ProcessingInstanceCount\", default_value=1)\n",
    "\n",
    "input_train = ParameterString(\n",
    "    name=\"TrainData\",\n",
    "    default_value=\"s3://businesssolver-test-data/test/df_train.csv\",\n",
    ")\n",
    "\n",
    "input_test = ParameterString(\n",
    "    name=\"TestData\",\n",
    "    default_value=\"s3://businesssolver-test-data/test/df_test.csv\",\n",
    ")\n",
    "\n",
    "model_output = ParameterString(name=\"ModelOutput\", default_value=f\"s3://businesssolver-test-data/test/model\")"
   ]
  },
  {
   "cell_type": "code",
   "execution_count": 7,
   "id": "e86e5311-f275-44a9-8cae-3051fff7e28a",
   "metadata": {
    "tags": []
   },
   "outputs": [
    {
     "name": "stdout",
     "output_type": "stream",
     "text": [
      "sagemaker.config INFO - Not applying SDK defaults from location: /etc/xdg/sagemaker/config.yaml\n",
      "sagemaker.config INFO - Not applying SDK defaults from location: /root/.config/sagemaker/config.yaml\n"
     ]
    }
   ],
   "source": [
    "sklearn_processor = SKLearnProcessor(\n",
    "    framework_version=\"0.20.0\",\n",
    "    role=role_arn,\n",
    "    instance_type=\"ml.m5.xlarge\",\n",
    "    instance_count=1,\n",
    ")"
   ]
  },
  {
   "cell_type": "code",
   "execution_count": 8,
   "id": "ae87e367-792f-476d-8ac4-f2de1e1bd08a",
   "metadata": {
    "tags": []
   },
   "outputs": [],
   "source": [
    "preprocess = ProcessingStep(\n",
    "    name=\"ComprehendProcess\",\n",
    "    processor=sklearn_processor,\n",
    "    inputs=[\n",
    "        ProcessingInput(source=input_train, destination=\"/opt/ml/processing/input_train\"),\n",
    "        ProcessingInput(source=input_test, destination=\"/opt/ml/processing/input_test\"),\n",
    "    ],\n",
    "    outputs=[\n",
    "        ProcessingOutput(output_name=\"train\", source=\"/opt/ml/processing/train\"),\n",
    "        ProcessingOutput(output_name=\"test\", source=\"/opt/ml/processing/test\"),\n",
    "    ],\n",
    "    code=\"prepare_data.py\",\n",
    ")"
   ]
  },
  {
   "cell_type": "code",
   "execution_count": 9,
   "id": "95edeb28-7b8b-4dbc-b4f5-2653cb9517c5",
   "metadata": {
    "tags": []
   },
   "outputs": [],
   "source": [
    "evaluation_report = PropertyFile(\n",
    "    name=\"ComprehendEvaluationReport\",\n",
    "    output_name=\"evaluation\",\n",
    "    path=\"evaluation.json\",\n",
    ")"
   ]
  },
  {
   "cell_type": "code",
   "execution_count": 10,
   "id": "9078710d-c752-4b0c-9585-a70830a7302c",
   "metadata": {
    "tags": []
   },
   "outputs": [],
   "source": [
    "comprehend_train_and_eval = ProcessingStep(\n",
    "    name=\"ComprehendTrainAndEval\",\n",
    "    processor=sklearn_processor,\n",
    "    job_arguments=[\n",
    "        \"--train-input-file\",\n",
    "        preprocess.properties.ProcessingOutputConfig.Outputs[\"train\"].S3Output.S3Uri,\n",
    "        \"--train-output-path\",\n",
    "        model_output,\n",
    "        \"--iam-role-arn\",\n",
    "        role_arn,\n",
    "    ],\n",
    "    code=\"train_eval_comprehend.py\",\n",
    "    outputs=[\n",
    "        ProcessingOutput(output_name=\"evaluation\", source=\"/opt/ml/processing/evaluation\"),\n",
    "        ProcessingOutput(output_name=\"arn\", source=\"/opt/ml/processing/arn\"),\n",
    "    ],\n",
    "    property_files=[evaluation_report],\n",
    ")"
   ]
  },
  {
   "cell_type": "code",
   "execution_count": 11,
   "id": "2ccb06fa-74a1-4b07-9b27-5944cadf4737",
   "metadata": {
    "tags": []
   },
   "outputs": [],
   "source": [
    "step_deploy_model = ProcessingStep(\n",
    "    name=\"ComprehendDeploy\",\n",
    "    processor=sklearn_processor,\n",
    "    job_arguments=[\n",
    "        \"--arn-path\",\n",
    "        comprehend_train_and_eval.properties.ProcessingOutputConfig.Outputs[\"arn\"].S3Output.S3Uri,\n",
    "    ],\n",
    "    code=\"deploy_comprehend.py\",\n",
    "    outputs=[\n",
    "        ProcessingOutput(output_name=\"endpoint_arn\", source=\"/opt/ml/processing/endpoint_arn\")\n",
    "    ],\n",
    ")"
   ]
  },
  {
   "cell_type": "code",
   "execution_count": 12,
   "id": "a7bb3a5f-64d7-4a09-b659-97c5979736af",
   "metadata": {
    "tags": []
   },
   "outputs": [],
   "source": [
    "from sagemaker.workflow.conditions import ConditionGreaterThanOrEqualTo\n",
    "from sagemaker.workflow.condition_step import ConditionStep\n",
    "from sagemaker.workflow.functions import JsonGet\n",
    "\n",
    "cond_lte = ConditionGreaterThanOrEqualTo(\n",
    "    left=JsonGet(\n",
    "        step_name=\"ComprehendTrainAndEval\",\n",
    "        property_file=evaluation_report,\n",
    "        json_path=\"Accuracy\",\n",
    "    ),\n",
    "    right=0.65,\n",
    ")\n",
    "\n",
    "step_cond = ConditionStep(\n",
    "    name=\"ComprehendAccuracyCondition\",\n",
    "    conditions=[cond_lte],\n",
    "    if_steps=[step_deploy_model],\n",
    "    else_steps=[],\n",
    ")"
   ]
  },
  {
   "cell_type": "code",
   "execution_count": 13,
   "id": "5f773e49-1932-4722-ac80-313339fa296a",
   "metadata": {
    "tags": []
   },
   "outputs": [
    {
     "data": {
      "text/plain": [
       "<sagemaker.workflow.properties.Properties at 0x7fdfd49a0100>"
      ]
     },
     "execution_count": 13,
     "metadata": {},
     "output_type": "execute_result"
    }
   ],
   "source": [
    "comprehend_train_and_eval.properties.ProcessingOutputConfig.Outputs[\"arn\"].S3Output.S3Uri\n"
   ]
  },
  {
   "cell_type": "code",
   "execution_count": 14,
   "id": "d11efc71-bbc2-41e3-9097-5e4f5fb3b7af",
   "metadata": {
    "tags": []
   },
   "outputs": [],
   "source": [
    "example_text = 'BIOGRAPHICAL SKETCH Elgart, George Wesley Assistant Professor Carnegie-Mellon University, Pittsburgh, PA B.S. 1980 Physics Medical College of Virginia, Richmond, VA M.D. 1984 M.D. EXPERIENCE: 1984-86 Internship, Internal Medicine, Case Western Reserve University School of Medicine, Cuyahoga County Hospital/Cleveland Metropolitan General Hospital, Cleveland, Ohio 1986-89 Internship, Dermatology, Case Western Reserve University School of Medicine, Cuyahoga County Hospital/Cleveland Metropolitan General Hospital, Cleveland, Ohio 1988-89 Chief Resident, Department of Dermatology, Case Western Reserve University School of Medicine, Cuyahoga County Hospital/Cleveland Metropolitan General Hospital, Cleveland, Ohio 1989-90 Fellowship, Department of Dermatopathology, Medical College of Virginia, Richmond, Virginia 1990-1993 Senior Staff Fellow, Dermatology Branch, National Cancer Institute, National Institutes of Health 1991-1993 Assistant Clinical Professor, Department of Dermatology, George Washington University 1993-present Assistant Professor, Department of Clinical Dermatology, University of Miami School of Medicine, Miami, Florida PUBLICATIONS: Bass, J., Engstrom, C., Elgart, G., Pomeranz, J. and Park, C.H.: Primary Cutaneous ExtramedullaryPlasmacytoma: Histologic and Immunohistochemical Findings. (Abst.) J. Cutan. Pathol. 14(6):350, 1987. Krowchuk, D., Bass, J. and Elgart, G.: Kawasaki Disease With an Exanthem Limited to the Diaper Area. A.J.D.C. 142:1136-7, 1988. Bass, J., Elgart, G., Pomeranz, J. and Kish, S.: Progression of Cutaneous Lymphoid Hyperplasia to Cutaneous Lymphoma: Histopathology, Immunohistochemistry, and Gene Rearrangement Studies. (Abst.) J. Cutan. Pathol. 15(5):297, 1988. Yue, C.C., Ehrman, J.E., Elgart, G. and Marino, J.A.: Detection of Mycobacteria DNA by Gene'"
   ]
  },
  {
   "cell_type": "code",
   "execution_count": 15,
   "id": "f67ec0ea-bb1f-4079-b7de-0b69a72d5285",
   "metadata": {
    "tags": []
   },
   "outputs": [
    {
     "data": {
      "text/plain": [
       "<sagemaker.workflow.properties.Properties at 0x7fdf8c98ef20>"
      ]
     },
     "execution_count": 15,
     "metadata": {},
     "output_type": "execute_result"
    }
   ],
   "source": [
    "step_deploy_model.properties.ProcessingOutputConfig.Outputs[\"endpoint_arn\"].S3Output.S3Uri\n"
   ]
  },
  {
   "cell_type": "code",
   "execution_count": 16,
   "id": "9ae5ebdd-6e9f-41cc-bfdc-5ab44d0718b2",
   "metadata": {
    "tags": []
   },
   "outputs": [],
   "source": [
    "import iam_helper"
   ]
  },
  {
   "cell_type": "code",
   "execution_count": 17,
   "id": "50db12d4-fb7f-4458-b837-43d0acb67f46",
   "metadata": {
    "tags": []
   },
   "outputs": [
    {
     "name": "stdout",
     "output_type": "stream",
     "text": [
      "Using ARN from existing role: DEMO-test-comprehend-lambda-role\n"
     ]
    }
   ],
   "source": [
    "\n",
    "lambda_role_name = \"DEMO-test-comprehend-lambda-role\"\n",
    "lambda_role = iam_helper.create_lambda_role(lambda_role_name)"
   ]
  },
  {
   "cell_type": "code",
   "execution_count": 18,
   "id": "320a5113-46ef-4767-89b7-2978d50c06b0",
   "metadata": {
    "tags": []
   },
   "outputs": [
    {
     "name": "stdout",
     "output_type": "stream",
     "text": [
      "sagemaker.config INFO - Not applying SDK defaults from location: /etc/xdg/sagemaker/config.yaml\n",
      "sagemaker.config INFO - Not applying SDK defaults from location: /root/.config/sagemaker/config.yaml\n"
     ]
    }
   ],
   "source": [
    "# Custom Lambda Step\n",
    "function_name = \"DEMO-sagemaker-lambda-step-endpoint-test\"\n",
    "\n",
    "# Lambda helper class can be used to create the Lambda function\n",
    "endpoint_lambda = Lambda(\n",
    "    function_name=function_name,\n",
    "    execution_role_arn=lambda_role,\n",
    "    script=\"test_comprehend_lambda.py\",\n",
    "    handler=\"test_comprehend_lambda.lambda_handler\",\n",
    ")\n",
    "\n",
    "test_endpoint = LambdaStep(\n",
    "    name=\"LambdaStep\",\n",
    "    lambda_func=endpoint_lambda,\n",
    "    inputs={\n",
    "        \"endpoint_arn_path\": step_deploy_model.properties.ProcessingOutputConfig.Outputs[\n",
    "            \"endpoint_arn\"\n",
    "        ].S3Output.S3Uri,\n",
    "        \"text\": example_text,\n",
    "    },\n",
    ")"
   ]
  },
  {
   "cell_type": "code",
   "execution_count": 19,
   "id": "3296fda8-2f92-49c7-95a3-3159a7ab46be",
   "metadata": {
    "tags": []
   },
   "outputs": [
    {
     "data": {
      "text/plain": [
       "<sagemaker.workflow.properties.Properties at 0x7fdf8c98ef20>"
      ]
     },
     "execution_count": 19,
     "metadata": {},
     "output_type": "execute_result"
    }
   ],
   "source": [
    "step_deploy_model.properties.ProcessingOutputConfig.Outputs[\"endpoint_arn\"].S3Output.S3Uri"
   ]
  },
  {
   "cell_type": "code",
   "execution_count": 20,
   "id": "f967848f-bd20-46a8-8fc5-0cbe7ed047b9",
   "metadata": {
    "tags": []
   },
   "outputs": [
    {
     "name": "stdout",
     "output_type": "stream",
     "text": [
      "sagemaker.config INFO - Not applying SDK defaults from location: /etc/xdg/sagemaker/config.yaml\n",
      "sagemaker.config INFO - Not applying SDK defaults from location: /root/.config/sagemaker/config.yaml\n"
     ]
    }
   ],
   "source": [
    "from sagemaker.workflow.pipeline import Pipeline\n",
    "\n",
    "pipeline_name = \"DEMO-ComprehendPipeline\"\n",
    "pipeline = Pipeline(\n",
    "    name=pipeline_name,\n",
    "    parameters=[\n",
    "        processing_instance_count,\n",
    "        input_train,\n",
    "        input_test,\n",
    "        model_output,\n",
    "    ],\n",
    "    steps=[preprocess, comprehend_train_and_eval, step_cond, test_endpoint],\n",
    ")"
   ]
  },
  {
   "cell_type": "code",
   "execution_count": 21,
   "id": "ec5231cc-6d34-4092-89f5-97f99fc14b47",
   "metadata": {
    "tags": []
   },
   "outputs": [
    {
     "name": "stderr",
     "output_type": "stream",
     "text": [
      "Popping out 'ProcessingJobName' from the pipeline definition by default since it will be overridden at pipeline execution time. Please utilize the PipelineDefinitionConfig to persist this field in the pipeline definition if desired.\n",
      "Popping out 'ProcessingJobName' from the pipeline definition by default since it will be overridden at pipeline execution time. Please utilize the PipelineDefinitionConfig to persist this field in the pipeline definition if desired.\n",
      "Popping out 'ProcessingJobName' from the pipeline definition by default since it will be overridden at pipeline execution time. Please utilize the PipelineDefinitionConfig to persist this field in the pipeline definition if desired.\n",
      "Popping out 'ProcessingJobName' from the pipeline definition by default since it will be overridden at pipeline execution time. Please utilize the PipelineDefinitionConfig to persist this field in the pipeline definition if desired.\n",
      "Popping out 'ProcessingJobName' from the pipeline definition by default since it will be overridden at pipeline execution time. Please utilize the PipelineDefinitionConfig to persist this field in the pipeline definition if desired.\n",
      "Popping out 'ProcessingJobName' from the pipeline definition by default since it will be overridden at pipeline execution time. Please utilize the PipelineDefinitionConfig to persist this field in the pipeline definition if desired.\n"
     ]
    },
    {
     "data": {
      "text/plain": [
       "{'PipelineArn': 'arn:aws:sagemaker:us-east-1:823254927476:pipeline/DEMO-ComprehendPipeline',\n",
       " 'ResponseMetadata': {'RequestId': '83dc5b2d-2983-4a17-a1e5-3e83576923c4',\n",
       "  'HTTPStatusCode': 200,\n",
       "  'HTTPHeaders': {'x-amzn-requestid': '83dc5b2d-2983-4a17-a1e5-3e83576923c4',\n",
       "   'content-type': 'application/x-amz-json-1.1',\n",
       "   'content-length': '91',\n",
       "   'date': 'Mon, 13 Nov 2023 08:23:38 GMT'},\n",
       "  'RetryAttempts': 0}}"
      ]
     },
     "execution_count": 21,
     "metadata": {},
     "output_type": "execute_result"
    }
   ],
   "source": [
    "pipeline.upsert(role_arn=role_arn)"
   ]
  },
  {
   "cell_type": "code",
   "execution_count": 22,
   "id": "d88081cd-2a8f-46d9-99e2-848f7da74bb4",
   "metadata": {
    "tags": []
   },
   "outputs": [],
   "source": [
    "execution = pipeline.start()"
   ]
  },
  {
   "cell_type": "code",
   "execution_count": 25,
   "id": "5bc2a1bf-81a3-4c73-9944-7dcb353db25e",
   "metadata": {
    "tags": []
   },
   "outputs": [
    {
     "data": {
      "text/plain": [
       "[{'StepName': 'ComprehendTrainAndEval',\n",
       "  'StartTime': datetime.datetime(2023, 11, 13, 8, 28, 51, 926000, tzinfo=tzlocal()),\n",
       "  'StepStatus': 'Executing',\n",
       "  'AttemptCount': 1,\n",
       "  'Metadata': {'ProcessingJob': {'Arn': 'arn:aws:sagemaker:us-east-1:823254927476:processing-job/pipelines-sa6qm3b80f1z-ComprehendTrainAndEv-IFESykMyBj'}}},\n",
       " {'StepName': 'ComprehendProcess',\n",
       "  'StartTime': datetime.datetime(2023, 11, 13, 8, 23, 43, 783000, tzinfo=tzlocal()),\n",
       "  'EndTime': datetime.datetime(2023, 11, 13, 8, 28, 51, 164000, tzinfo=tzlocal()),\n",
       "  'StepStatus': 'Succeeded',\n",
       "  'AttemptCount': 1,\n",
       "  'Metadata': {'ProcessingJob': {'Arn': 'arn:aws:sagemaker:us-east-1:823254927476:processing-job/pipelines-sa6qm3b80f1z-ComprehendProcess-GY7pj25u04'}}}]"
      ]
     },
     "execution_count": 25,
     "metadata": {},
     "output_type": "execute_result"
    }
   ],
   "source": [
    "execution.list_steps()"
   ]
  },
  {
   "cell_type": "code",
   "execution_count": 35,
   "id": "66084762-9405-4516-b7f0-c6da16eb24c4",
   "metadata": {
    "tags": []
   },
   "outputs": [
    {
     "data": {
      "text/html": [
       "<div>\n",
       "<style scoped>\n",
       "    .dataframe tbody tr th:only-of-type {\n",
       "        vertical-align: middle;\n",
       "    }\n",
       "\n",
       "    .dataframe tbody tr th {\n",
       "        vertical-align: top;\n",
       "    }\n",
       "\n",
       "    .dataframe thead th {\n",
       "        text-align: right;\n",
       "    }\n",
       "</style>\n",
       "<table border=\"1\" class=\"dataframe\">\n",
       "  <thead>\n",
       "    <tr style=\"text-align: right;\">\n",
       "      <th></th>\n",
       "      <th>0</th>\n",
       "      <th>1</th>\n",
       "    </tr>\n",
       "  </thead>\n",
       "  <tbody>\n",
       "    <tr>\n",
       "      <th>0</th>\n",
       "      <td>SCIENCE_AND_MATHEMATICS</td>\n",
       "      <td>What is an \\imaginary number\\\"? \\n What is an ...</td>\n",
       "    </tr>\n",
       "    <tr>\n",
       "      <th>1</th>\n",
       "      <td>ENTERTAINMENT_AND_MUSIC</td>\n",
       "      <td>What's the cheapest source for ordering DVDs f...</td>\n",
       "    </tr>\n",
       "    <tr>\n",
       "      <th>2</th>\n",
       "      <td>BUSINESS_AND_FINANCE</td>\n",
       "      <td>If I lose lots of money in stock in one year&amp;#...</td>\n",
       "    </tr>\n",
       "    <tr>\n",
       "      <th>3</th>\n",
       "      <td>SCIENCE_AND_MATHEMATICS</td>\n",
       "      <td>When can a common man fly to moon? \\n My realt...</td>\n",
       "    </tr>\n",
       "    <tr>\n",
       "      <th>4</th>\n",
       "      <td>SOCIETY_AND_CULTURE</td>\n",
       "      <td>When do you use a semicolon instead of a colon...</td>\n",
       "    </tr>\n",
       "    <tr>\n",
       "      <th>...</th>\n",
       "      <td>...</td>\n",
       "      <td>...</td>\n",
       "    </tr>\n",
       "    <tr>\n",
       "      <th>99986</th>\n",
       "      <td>POLITICS_AND_GOVERNMENT</td>\n",
       "      <td>I need help reporting a person who is working ...</td>\n",
       "    </tr>\n",
       "    <tr>\n",
       "      <th>99987</th>\n",
       "      <td>ENTERTAINMENT_AND_MUSIC</td>\n",
       "      <td>What happened to the rebate for 'Friends' seas...</td>\n",
       "    </tr>\n",
       "    <tr>\n",
       "      <th>99988</th>\n",
       "      <td>POLITICS_AND_GOVERNMENT</td>\n",
       "      <td>Are terrorists allowed to edit \\factual inform...</td>\n",
       "    </tr>\n",
       "    <tr>\n",
       "      <th>99989</th>\n",
       "      <td>SPORTS</td>\n",
       "      <td>do u think that STEVE NASH deserves the MVP???...</td>\n",
       "    </tr>\n",
       "    <tr>\n",
       "      <th>99990</th>\n",
       "      <td>EDUCATION_AND_REFERENCE</td>\n",
       "      <td>Hi everybody i need a hindi translator in duba...</td>\n",
       "    </tr>\n",
       "  </tbody>\n",
       "</table>\n",
       "<p>99991 rows × 2 columns</p>\n",
       "</div>"
      ],
      "text/plain": [
       "                             0  \\\n",
       "0      SCIENCE_AND_MATHEMATICS   \n",
       "1      ENTERTAINMENT_AND_MUSIC   \n",
       "2         BUSINESS_AND_FINANCE   \n",
       "3      SCIENCE_AND_MATHEMATICS   \n",
       "4          SOCIETY_AND_CULTURE   \n",
       "...                        ...   \n",
       "99986  POLITICS_AND_GOVERNMENT   \n",
       "99987  ENTERTAINMENT_AND_MUSIC   \n",
       "99988  POLITICS_AND_GOVERNMENT   \n",
       "99989                   SPORTS   \n",
       "99990  EDUCATION_AND_REFERENCE   \n",
       "\n",
       "                                                       1  \n",
       "0      What is an \\imaginary number\\\"? \\n What is an ...  \n",
       "1      What's the cheapest source for ordering DVDs f...  \n",
       "2      If I lose lots of money in stock in one year&#...  \n",
       "3      When can a common man fly to moon? \\n My realt...  \n",
       "4      When do you use a semicolon instead of a colon...  \n",
       "...                                                  ...  \n",
       "99986  I need help reporting a person who is working ...  \n",
       "99987  What happened to the rebate for 'Friends' seas...  \n",
       "99988  Are terrorists allowed to edit \\factual inform...  \n",
       "99989  do u think that STEVE NASH deserves the MVP???...  \n",
       "99990  Hi everybody i need a hindi translator in duba...  \n",
       "\n",
       "[99991 rows x 2 columns]"
      ]
     },
     "execution_count": 35,
     "metadata": {},
     "output_type": "execute_result"
    }
   ],
   "source": [
    "import pandas as pd\n",
    "\n",
    "trainFrame = pd.read_csv(\n",
    "    \"s3://aws-ml-blog/artifacts/comprehend-custom-classification/comprehend-train.csv\",\n",
    "    header=None,\n",
    ")\n",
    "trainFrame"
   ]
  },
  {
   "cell_type": "code",
   "execution_count": 43,
   "id": "feec96b5-4aa1-4c33-9e3a-512e2e7fcdda",
   "metadata": {
    "tags": []
   },
   "outputs": [
    {
     "data": {
      "text/html": [
       "<div>\n",
       "<style scoped>\n",
       "    .dataframe tbody tr th:only-of-type {\n",
       "        vertical-align: middle;\n",
       "    }\n",
       "\n",
       "    .dataframe tbody tr th {\n",
       "        vertical-align: top;\n",
       "    }\n",
       "\n",
       "    .dataframe thead th {\n",
       "        text-align: right;\n",
       "    }\n",
       "</style>\n",
       "<table border=\"1\" class=\"dataframe\">\n",
       "  <thead>\n",
       "    <tr style=\"text-align: right;\">\n",
       "      <th></th>\n",
       "      <th>class</th>\n",
       "      <th>txt</th>\n",
       "    </tr>\n",
       "  </thead>\n",
       "  <tbody>\n",
       "    <tr>\n",
       "      <th>0</th>\n",
       "      <td>email</td>\n",
       "      <td>Original Message From: Curi, ANT. Sent: Thursd...</td>\n",
       "    </tr>\n",
       "    <tr>\n",
       "      <th>1</th>\n",
       "      <td>email</td>\n",
       "      <td>Original Message From: Mahion Moles Sent: Wedn...</td>\n",
       "    </tr>\n",
       "    <tr>\n",
       "      <th>2</th>\n",
       "      <td>email</td>\n",
       "      <td>Original Message From: Levy. Carolyn J. Sent: ...</td>\n",
       "    </tr>\n",
       "    <tr>\n",
       "      <th>3</th>\n",
       "      <td>email</td>\n",
       "      <td>Original Message From: McCarthy, Joanne Sent: ...</td>\n",
       "    </tr>\n",
       "    <tr>\n",
       "      <th>4</th>\n",
       "      <td>email</td>\n",
       "      <td>Kinser, Robin D. From: Gannon, Sean L. Sent: M...</td>\n",
       "    </tr>\n",
       "    <tr>\n",
       "      <th>...</th>\n",
       "      <td>...</td>\n",
       "      <td>...</td>\n",
       "    </tr>\n",
       "    <tr>\n",
       "      <th>145</th>\n",
       "      <td>scientific_publication</td>\n",
       "      <td>The Contribution of Tobacco Constituents to Ph...</td>\n",
       "    </tr>\n",
       "    <tr>\n",
       "      <th>146</th>\n",
       "      <td>scientific_publication</td>\n",
       "      <td>Environment International Vol. 20 No. 6, PF 6....</td>\n",
       "    </tr>\n",
       "    <tr>\n",
       "      <th>147</th>\n",
       "      <td>scientific_publication</td>\n",
       "      <td>SPODIU, EXPERIMENTAL file Isn PATHOLINA (Th 35...</td>\n",
       "    </tr>\n",
       "    <tr>\n",
       "      <th>148</th>\n",
       "      <td>scientific_publication</td>\n",
       "      <td>p53, PAH, Development DNA damage article A ter...</td>\n",
       "    </tr>\n",
       "    <tr>\n",
       "      <th>149</th>\n",
       "      <td>scientific_publication</td>\n",
       "      <td>Archiv für Hygiene 1/69 und Bakteriologie Sond...</td>\n",
       "    </tr>\n",
       "  </tbody>\n",
       "</table>\n",
       "<p>150 rows × 2 columns</p>\n",
       "</div>"
      ],
      "text/plain": [
       "                      class                                                txt\n",
       "0                     email  Original Message From: Curi, ANT. Sent: Thursd...\n",
       "1                     email  Original Message From: Mahion Moles Sent: Wedn...\n",
       "2                     email  Original Message From: Levy. Carolyn J. Sent: ...\n",
       "3                     email  Original Message From: McCarthy, Joanne Sent: ...\n",
       "4                     email  Kinser, Robin D. From: Gannon, Sean L. Sent: M...\n",
       "..                      ...                                                ...\n",
       "145  scientific_publication  The Contribution of Tobacco Constituents to Ph...\n",
       "146  scientific_publication  Environment International Vol. 20 No. 6, PF 6....\n",
       "147  scientific_publication  SPODIU, EXPERIMENTAL file Isn PATHOLINA (Th 35...\n",
       "148  scientific_publication  p53, PAH, Development DNA damage article A ter...\n",
       "149  scientific_publication  Archiv für Hygiene 1/69 und Bakteriologie Sond...\n",
       "\n",
       "[150 rows x 2 columns]"
      ]
     },
     "execution_count": 43,
     "metadata": {},
     "output_type": "execute_result"
    }
   ],
   "source": [
    "import pandas as pd\n",
    "\n",
    "trainFrame = pd.read_csv(\n",
    "    \"s3://businesssolver-test-data/test/df_train.csv\",\n",
    "    header=0,\n",
    "    sep=';',\n",
    ")\n",
    "trainFrame"
   ]
  },
  {
   "cell_type": "markdown",
   "id": "9c5bfc2c-6bd1-408b-9f52-fffb63f0b9eb",
   "metadata": {},
   "source": [
    "## TESTS"
   ]
  },
  {
   "cell_type": "code",
   "execution_count": 2,
   "id": "6e73b1e1-4c36-421f-a8f6-1e58916b0c1d",
   "metadata": {
    "tags": []
   },
   "outputs": [],
   "source": [
    "import os\n",
    "import json\n",
    "import sys\n",
    "import pathlib\n",
    "import argparse\n",
    "import datetime\n",
    "import time\n",
    "import boto3"
   ]
  },
  {
   "cell_type": "code",
   "execution_count": 3,
   "id": "80716d15-e851-4fcf-b341-0da24312bd0c",
   "metadata": {
    "tags": []
   },
   "outputs": [],
   "source": [
    "role_arn='arn:aws:iam::823254927476:role/service-role/AmazonSageMaker-ExecutionRole-20231102T173201'\n",
    "s3_train_data='s3://sagemaker-us-east-1-823254927476/DEMO-ComprehendPipeline/a1haxcy09dl9/ComprehendProcess/output/train'\n",
    "s3_train_output='s3://businesssolver-test-data/test/model'"
   ]
  },
  {
   "cell_type": "code",
   "execution_count": 4,
   "id": "e3b69475-648f-46b6-afe4-f1677574a66c",
   "metadata": {
    "tags": []
   },
   "outputs": [],
   "source": [
    "comprehend = boto3.client(\"comprehend\", region_name=os.environ[\"AWS_REGION\"])"
   ]
  },
  {
   "cell_type": "code",
   "execution_count": 5,
   "id": "a8238e7e-1c97-4b00-a592-21fee2babe5a",
   "metadata": {
    "tags": []
   },
   "outputs": [],
   "source": [
    "id_ = str(datetime.datetime.now().strftime(\"%s\"))\n"
   ]
  },
  {
   "cell_type": "code",
   "execution_count": 6,
   "id": "80270044-0636-4c00-a401-c9bddd92fac3",
   "metadata": {
    "tags": []
   },
   "outputs": [],
   "source": [
    "create_custom_classify_response = comprehend.create_document_classifier(\n",
    "    DocumentClassifierName=\"DEMO-custom-classifier-\" + id_,\n",
    "    DataAccessRoleArn=role_arn,\n",
    "    InputDataConfig={\"DataFormat\": \"COMPREHEND_CSV\", \"S3Uri\": s3_train_data},\n",
    "    OutputDataConfig={\"S3Uri\": s3_train_output},\n",
    "    LanguageCode=\"en\",\n",
    ")"
   ]
  },
  {
   "cell_type": "code",
   "execution_count": 7,
   "id": "415b37b3-09e4-479c-b870-9cc353587105",
   "metadata": {
    "tags": []
   },
   "outputs": [],
   "source": [
    "jobArn = create_custom_classify_response[\"DocumentClassifierArn\"]\n"
   ]
  },
  {
   "cell_type": "code",
   "execution_count": 8,
   "id": "13b896ec-547f-4937-a983-3bc8605a318f",
   "metadata": {
    "tags": []
   },
   "outputs": [
    {
     "data": {
      "text/plain": [
       "'arn:aws:comprehend:us-east-1:823254927476:document-classifier/DEMO-custom-classifier-1699532802'"
      ]
     },
     "execution_count": 8,
     "metadata": {},
     "output_type": "execute_result"
    }
   ],
   "source": [
    "jobArn"
   ]
  },
  {
   "cell_type": "code",
   "execution_count": 9,
   "id": "b0ab5e3d-4497-4189-84b7-2ffbc764dd15",
   "metadata": {
    "tags": []
   },
   "outputs": [
    {
     "data": {
      "text/plain": [
       "{'DocumentClassifierProperties': {'DocumentClassifierArn': 'arn:aws:comprehend:us-east-1:823254927476:document-classifier/DEMO-custom-classifier-1699532802',\n",
       "  'LanguageCode': 'en',\n",
       "  'Status': 'SUBMITTED',\n",
       "  'SubmitTime': datetime.datetime(2023, 11, 9, 12, 26, 44, 357000, tzinfo=tzlocal()),\n",
       "  'InputDataConfig': {'DataFormat': 'COMPREHEND_CSV',\n",
       "   'S3Uri': 's3://sagemaker-us-east-1-823254927476/DEMO-ComprehendPipeline/a1haxcy09dl9/ComprehendProcess/output/train'},\n",
       "  'OutputDataConfig': {'S3Uri': 's3://businesssolver-test-data/test/model/823254927476-CLR-6ffa6822256803018cfd349a19556e63/output/output.tar.gz'},\n",
       "  'DataAccessRoleArn': 'arn:aws:iam::823254927476:role/service-role/AmazonSageMaker-ExecutionRole-20231102T173201',\n",
       "  'Mode': 'MULTI_CLASS'},\n",
       " 'ResponseMetadata': {'RequestId': 'a3b8c9ed-2d28-4a00-a5b5-3291326ba30d',\n",
       "  'HTTPStatusCode': 200,\n",
       "  'HTTPHeaders': {'x-amzn-requestid': 'a3b8c9ed-2d28-4a00-a5b5-3291326ba30d',\n",
       "   'content-type': 'application/x-amz-json-1.1',\n",
       "   'content-length': '669',\n",
       "   'date': 'Thu, 09 Nov 2023 12:26:49 GMT'},\n",
       "  'RetryAttempts': 0}}"
      ]
     },
     "execution_count": 9,
     "metadata": {},
     "output_type": "execute_result"
    }
   ],
   "source": [
    "describe_custom_classifier = comprehend.describe_document_classifier(\n",
    "            DocumentClassifierArn=jobArn\n",
    ")\n",
    "describe_custom_classifier"
   ]
  },
  {
   "cell_type": "code",
   "execution_count": 10,
   "id": "bdfea054-9cf6-4765-b44a-adf73cd1a141",
   "metadata": {
    "tags": []
   },
   "outputs": [
    {
     "data": {
      "text/plain": [
       "'SUBMITTED'"
      ]
     },
     "execution_count": 10,
     "metadata": {},
     "output_type": "execute_result"
    }
   ],
   "source": [
    "status = describe_custom_classifier[\"DocumentClassifierProperties\"][\"Status\"]\n",
    "status"
   ]
  },
  {
   "cell_type": "markdown",
   "id": "40c82130-f93d-4707-a067-c81116633289",
   "metadata": {},
   "source": [
    "## CLEAN UP"
   ]
  },
  {
   "cell_type": "code",
   "execution_count": null,
   "id": "243d1e64-022e-48ae-9dc4-363304ac1a3f",
   "metadata": {
    "tags": []
   },
   "outputs": [],
   "source": [
    "!pip install s3path"
   ]
  },
  {
   "cell_type": "code",
   "execution_count": 38,
   "id": "085e8e63-f835-4d85-8f9f-f62d7e07e138",
   "metadata": {
    "tags": []
   },
   "outputs": [],
   "source": [
    "import re\n",
    "import json\n",
    "from s3path import S3Path\n",
    "\n",
    "\n",
    "def get_comprehend_endpoint_arn(execution):\n",
    "    sagemaker_client = boto3.client(\"sagemaker\")\n",
    "    step_response = [\n",
    "        step for step in execution.list_steps() if step[\"StepName\"] == \"ComprehendDeploy\"\n",
    "    ][0]\n",
    "    deploy_job_arn = step_response[\"Metadata\"][\"ProcessingJob\"][\"Arn\"]\n",
    "    deploy_job_name = re.split(\":|/\", deploy_job_arn)[-1]\n",
    "    job_response = sagemaker_client.describe_processing_job(ProcessingJobName=deploy_job_name)\n",
    "    job_path = (\n",
    "        job_response[\"ProcessingOutputConfig\"][\"Outputs\"][0][\"S3Output\"][\"S3Uri\"]\n",
    "        + \"/endpoint_arn.txt\"\n",
    "    )\n",
    "    with S3Path.from_uri(job_path).open() as f:\n",
    "        comprehend_arn = f.read()\n",
    "\n",
    "    return comprehend_arn"
   ]
  },
  {
   "cell_type": "code",
   "execution_count": 28,
   "id": "b25f00ad-69bf-4d11-9c4d-d3f061e52b5b",
   "metadata": {
    "tags": []
   },
   "outputs": [],
   "source": [
    "sagemaker_client = boto3.client(\"sagemaker\")\n",
    "\n",
    "job_response = sagemaker_client.describe_processing_job(ProcessingJobName='pipelines-sa6qm3b80f1z-ComprehendDeploy-08P5EsnxZI')\n"
   ]
  },
  {
   "cell_type": "code",
   "execution_count": 29,
   "id": "ef7ab780-6d59-492c-9b61-2342ac7574e4",
   "metadata": {
    "tags": []
   },
   "outputs": [],
   "source": [
    "job_path = (\n",
    "    job_response[\"ProcessingOutputConfig\"][\"Outputs\"][0][\"S3Output\"][\"S3Uri\"]\n",
    "    + \"/endpoint_arn.txt\"\n",
    ")"
   ]
  },
  {
   "cell_type": "code",
   "execution_count": 33,
   "id": "746dd953-e0c5-4251-b3df-ab44b19960f8",
   "metadata": {
    "tags": []
   },
   "outputs": [
    {
     "data": {
      "text/plain": [
       "'arn:aws:comprehend:us-east-1:823254927476:document-classifier-endpoint/DEMO-classifier-2023-11-13-09-17-30'"
      ]
     },
     "execution_count": 33,
     "metadata": {},
     "output_type": "execute_result"
    }
   ],
   "source": [
    "s3.get_object(\n",
    "            Bucket=\"sagemaker-us-east-1-823254927476\",\n",
    "            Key=\"DEMO-ComprehendPipeline/sa6qm3b80f1z/ComprehendAccuracyCondition/output/endpoint_arn/endpoint_arn.txt\",\n",
    "        )[\"Body\"].read().decode().strip()"
   ]
  },
  {
   "cell_type": "code",
   "execution_count": 31,
   "id": "6fa28cfe-d8b9-4a79-a9e4-cad9c7fe4170",
   "metadata": {
    "tags": []
   },
   "outputs": [
    {
     "data": {
      "text/plain": [
       "{'ResponseMetadata': {'RequestId': '3V9416NA8R5EZERC',\n",
       "  'HostId': 'lQNjO8vLxDw/wyGMu53TyVSEP+vUxJ3lPiY4JLHSujTFINO1R+LuyA+eU52Vch6l4AIlFBjTgOU=',\n",
       "  'HTTPStatusCode': 200,\n",
       "  'HTTPHeaders': {'x-amz-id-2': 'lQNjO8vLxDw/wyGMu53TyVSEP+vUxJ3lPiY4JLHSujTFINO1R+LuyA+eU52Vch6l4AIlFBjTgOU=',\n",
       "   'x-amz-request-id': '3V9416NA8R5EZERC',\n",
       "   'date': 'Mon, 13 Nov 2023 10:43:44 GMT',\n",
       "   'last-modified': 'Mon, 13 Nov 2023 09:27:36 GMT',\n",
       "   'etag': '\"8c8bed6b85aa4cca91ff83f9d8de5df6\"',\n",
       "   'x-amz-server-side-encryption': 'aws:kms',\n",
       "   'x-amz-server-side-encryption-aws-kms-key-id': 'arn:aws:kms:us-east-1:823254927476:key/70326f9a-3912-4099-a67e-d30b2ffa3dac',\n",
       "   'accept-ranges': 'bytes',\n",
       "   'content-type': 'binary/octet-stream',\n",
       "   'server': 'AmazonS3',\n",
       "   'content-length': '106'},\n",
       "  'RetryAttempts': 0},\n",
       " 'AcceptRanges': 'bytes',\n",
       " 'LastModified': datetime.datetime(2023, 11, 13, 9, 27, 36, tzinfo=tzutc()),\n",
       " 'ContentLength': 106,\n",
       " 'ETag': '\"8c8bed6b85aa4cca91ff83f9d8de5df6\"',\n",
       " 'ContentType': 'binary/octet-stream',\n",
       " 'ServerSideEncryption': 'aws:kms',\n",
       " 'Metadata': {},\n",
       " 'SSEKMSKeyId': 'arn:aws:kms:us-east-1:823254927476:key/70326f9a-3912-4099-a67e-d30b2ffa3dac'}"
      ]
     },
     "execution_count": 31,
     "metadata": {},
     "output_type": "execute_result"
    }
   ],
   "source": [
    "s3 = boto3.client('s3')\n",
    "s3.head_object(Bucket=\"sagemaker-us-east-1-823254927476\", Key=\"DEMO-ComprehendPipeline/sa6qm3b80f1z/ComprehendAccuracyCondition/output/endpoint_arn/endpoint_arn.txt\")"
   ]
  },
  {
   "cell_type": "code",
   "execution_count": 30,
   "id": "4b9537ed-4992-470b-8f49-2c6f259e222d",
   "metadata": {
    "tags": []
   },
   "outputs": [
    {
     "data": {
      "text/plain": [
       "'s3://sagemaker-us-east-1-823254927476/DEMO-ComprehendPipeline/sa6qm3b80f1z/ComprehendAccuracyCondition/output/endpoint_arn/endpoint_arn.txt'"
      ]
     },
     "execution_count": 30,
     "metadata": {},
     "output_type": "execute_result"
    }
   ],
   "source": [
    "job_path\n"
   ]
  },
  {
   "cell_type": "code",
   "execution_count": 39,
   "id": "9484f88f-912e-4031-a54f-036e70143e13",
   "metadata": {
    "tags": []
   },
   "outputs": [
    {
     "data": {
      "text/plain": [
       "{'PipelineArn': 'arn:aws:sagemaker:us-east-1:823254927476:pipeline/DEMO-ComprehendPipeline',\n",
       " 'ResponseMetadata': {'RequestId': 'f0fd424e-6413-40df-851c-d4602e4bc05c',\n",
       "  'HTTPStatusCode': 200,\n",
       "  'HTTPHeaders': {'x-amzn-requestid': 'f0fd424e-6413-40df-851c-d4602e4bc05c',\n",
       "   'content-type': 'application/x-amz-json-1.1',\n",
       "   'content-length': '91',\n",
       "   'date': 'Mon, 13 Nov 2023 14:11:55 GMT'},\n",
       "  'RetryAttempts': 0}}"
      ]
     },
     "execution_count": 39,
     "metadata": {},
     "output_type": "execute_result"
    }
   ],
   "source": [
    "# Delete Comprehend endpoint\n",
    "comprehend_client = boto3.client(\"comprehend\")\n",
    "comprehend_client.delete_endpoint(EndpointArn=get_comprehend_endpoint_arn(execution))\n",
    "\n",
    "# Delete Lambda function\n",
    "lambda_client = boto3.client(\"lambda\")\n",
    "lambda_client.delete_function(FunctionName=function_name)\n",
    "\n",
    "# Delete IAM role\n",
    "iam_helper.delete_lambda_role(lambda_role_name)\n",
    "\n",
    "# Delete SageMaker Pipeline\n",
    "pipeline.delete()"
   ]
  },
  {
   "cell_type": "markdown",
   "id": "6bdbe6a2-3fec-4e0a-bb58-4eb1979f7c47",
   "metadata": {
    "tags": []
   },
   "source": [
    "### TEST ENDPOINT"
   ]
  },
  {
   "cell_type": "code",
   "execution_count": 34,
   "id": "5d318189-d9a9-4322-b323-ad38cca9541a",
   "metadata": {
    "tags": []
   },
   "outputs": [],
   "source": [
    "import os\n",
    "import sys\n",
    "import json\n",
    "import argparse\n",
    "from urllib.parse import urlparse\n",
    "\n",
    "import boto3\n",
    "\n",
    "comprehend = boto3.client(\"comprehend\", region_name=os.environ[\"AWS_REGION\"])\n",
    "s3 = boto3.client(\"s3\")"
   ]
  },
  {
   "cell_type": "code",
   "execution_count": 35,
   "id": "990ecfdd-8c4a-4b26-8afe-8b133d9565a9",
   "metadata": {
    "tags": []
   },
   "outputs": [],
   "source": [
    "endpoint_response = comprehend.classify_document(\n",
    "        Text='''CURRICULUM VITAE VICTOR SHENGKUEN FANG Born: October 10, 1929, Chi-Kiang (Zhejiang), China Citizenship: U.S. Marital Status: Married No. of Children: 2 Home Address: 118 Surrey Lane, Burr Ridge, IL 60521 Telephone: (312) 789-8524 Business Address: 5841 S. Maryland Avenue, Box 85, Chicago, IL 60637 Telephone: (312) 962-1055 Educational Background: 1946-47 National Chekiang University 1947-51 B.S. National Defense Medical Center, Taiwan 1963-64 M.S. (Pharmaceutical Chemistry and Pharmacology) Massachusetts College of Pharmacy 1964-67 Ph.D. (Pharmacology) Massachusetts College of Pharmacy Work Experience: 1954-56 Instructor, National Taiwan University Medical School, Taiwan 1956-62 Manager, Product Development, Sine Laboratories, Taiwan 1963-67 Medical Research Associate (Part-time) Peter Bent Brigham Hospital, Thyroid Laboratory, Boston, MA 1967-70 USPHS Post-doctoral Research Fellow in Pharmacology, Harvard Medical School. 1970-71 Associate in Anatomy, Harvard Medical School 1971-77 Assistant Professor of Medicine, University of Chicago 1977- Associate Professor of Medicine, University of Chicago 1978- Associate Professor of Psychiatry, University of Chicago Honors: 1980- Adjunct Professor of Medicine, Shanghai Second Medical School, Shanghai, People's Republic of China. 1980- Adviser of Endocrinology, Shanghai Endocrine Research Institute, Shanghai, People's Republic of China. 50278592''',\n",
    "        EndpointArn='arn:aws:comprehend:us-east-1:823254927476:document-classifier-endpoint/DEMO-classifier-2023-11-13-09-17-30'\n",
    "    )"
   ]
  },
  {
   "cell_type": "code",
   "execution_count": 36,
   "id": "8aa7de1f-87c4-47e3-919a-b35cf2e136ca",
   "metadata": {
    "tags": []
   },
   "outputs": [
    {
     "data": {
      "text/plain": [
       "{'Classes': [{'Name': 'resume', 'Score': 0.9999717473983765},\n",
       "  {'Name': 'scientific_publication', 'Score': 3.988193202530965e-05},\n",
       "  {'Name': 'email', 'Score': 1.829063330660574e-05}],\n",
       " 'ResponseMetadata': {'RequestId': '532206f3-c459-4bcb-82dd-ce4b4ebf1b55',\n",
       "  'HTTPStatusCode': 200,\n",
       "  'HTTPHeaders': {'x-amzn-requestid': '532206f3-c459-4bcb-82dd-ce4b4ebf1b55',\n",
       "   'content-type': 'application/x-amz-json-1.1',\n",
       "   'content-length': '167',\n",
       "   'date': 'Mon, 13 Nov 2023 10:47:52 GMT'},\n",
       "  'RetryAttempts': 0}}"
      ]
     },
     "execution_count": 36,
     "metadata": {},
     "output_type": "execute_result"
    }
   ],
   "source": [
    "endpoint_response"
   ]
  },
  {
   "cell_type": "code",
   "execution_count": null,
   "id": "36194bad-cfca-4a83-9b79-f40491f563e4",
   "metadata": {},
   "outputs": [],
   "source": []
  }
 ],
 "metadata": {
  "availableInstances": [
   {
    "_defaultOrder": 0,
    "_isFastLaunch": true,
    "category": "General purpose",
    "gpuNum": 0,
    "hideHardwareSpecs": false,
    "memoryGiB": 4,
    "name": "ml.t3.medium",
    "vcpuNum": 2
   },
   {
    "_defaultOrder": 1,
    "_isFastLaunch": false,
    "category": "General purpose",
    "gpuNum": 0,
    "hideHardwareSpecs": false,
    "memoryGiB": 8,
    "name": "ml.t3.large",
    "vcpuNum": 2
   },
   {
    "_defaultOrder": 2,
    "_isFastLaunch": false,
    "category": "General purpose",
    "gpuNum": 0,
    "hideHardwareSpecs": false,
    "memoryGiB": 16,
    "name": "ml.t3.xlarge",
    "vcpuNum": 4
   },
   {
    "_defaultOrder": 3,
    "_isFastLaunch": false,
    "category": "General purpose",
    "gpuNum": 0,
    "hideHardwareSpecs": false,
    "memoryGiB": 32,
    "name": "ml.t3.2xlarge",
    "vcpuNum": 8
   },
   {
    "_defaultOrder": 4,
    "_isFastLaunch": true,
    "category": "General purpose",
    "gpuNum": 0,
    "hideHardwareSpecs": false,
    "memoryGiB": 8,
    "name": "ml.m5.large",
    "vcpuNum": 2
   },
   {
    "_defaultOrder": 5,
    "_isFastLaunch": false,
    "category": "General purpose",
    "gpuNum": 0,
    "hideHardwareSpecs": false,
    "memoryGiB": 16,
    "name": "ml.m5.xlarge",
    "vcpuNum": 4
   },
   {
    "_defaultOrder": 6,
    "_isFastLaunch": false,
    "category": "General purpose",
    "gpuNum": 0,
    "hideHardwareSpecs": false,
    "memoryGiB": 32,
    "name": "ml.m5.2xlarge",
    "vcpuNum": 8
   },
   {
    "_defaultOrder": 7,
    "_isFastLaunch": false,
    "category": "General purpose",
    "gpuNum": 0,
    "hideHardwareSpecs": false,
    "memoryGiB": 64,
    "name": "ml.m5.4xlarge",
    "vcpuNum": 16
   },
   {
    "_defaultOrder": 8,
    "_isFastLaunch": false,
    "category": "General purpose",
    "gpuNum": 0,
    "hideHardwareSpecs": false,
    "memoryGiB": 128,
    "name": "ml.m5.8xlarge",
    "vcpuNum": 32
   },
   {
    "_defaultOrder": 9,
    "_isFastLaunch": false,
    "category": "General purpose",
    "gpuNum": 0,
    "hideHardwareSpecs": false,
    "memoryGiB": 192,
    "name": "ml.m5.12xlarge",
    "vcpuNum": 48
   },
   {
    "_defaultOrder": 10,
    "_isFastLaunch": false,
    "category": "General purpose",
    "gpuNum": 0,
    "hideHardwareSpecs": false,
    "memoryGiB": 256,
    "name": "ml.m5.16xlarge",
    "vcpuNum": 64
   },
   {
    "_defaultOrder": 11,
    "_isFastLaunch": false,
    "category": "General purpose",
    "gpuNum": 0,
    "hideHardwareSpecs": false,
    "memoryGiB": 384,
    "name": "ml.m5.24xlarge",
    "vcpuNum": 96
   },
   {
    "_defaultOrder": 12,
    "_isFastLaunch": false,
    "category": "General purpose",
    "gpuNum": 0,
    "hideHardwareSpecs": false,
    "memoryGiB": 8,
    "name": "ml.m5d.large",
    "vcpuNum": 2
   },
   {
    "_defaultOrder": 13,
    "_isFastLaunch": false,
    "category": "General purpose",
    "gpuNum": 0,
    "hideHardwareSpecs": false,
    "memoryGiB": 16,
    "name": "ml.m5d.xlarge",
    "vcpuNum": 4
   },
   {
    "_defaultOrder": 14,
    "_isFastLaunch": false,
    "category": "General purpose",
    "gpuNum": 0,
    "hideHardwareSpecs": false,
    "memoryGiB": 32,
    "name": "ml.m5d.2xlarge",
    "vcpuNum": 8
   },
   {
    "_defaultOrder": 15,
    "_isFastLaunch": false,
    "category": "General purpose",
    "gpuNum": 0,
    "hideHardwareSpecs": false,
    "memoryGiB": 64,
    "name": "ml.m5d.4xlarge",
    "vcpuNum": 16
   },
   {
    "_defaultOrder": 16,
    "_isFastLaunch": false,
    "category": "General purpose",
    "gpuNum": 0,
    "hideHardwareSpecs": false,
    "memoryGiB": 128,
    "name": "ml.m5d.8xlarge",
    "vcpuNum": 32
   },
   {
    "_defaultOrder": 17,
    "_isFastLaunch": false,
    "category": "General purpose",
    "gpuNum": 0,
    "hideHardwareSpecs": false,
    "memoryGiB": 192,
    "name": "ml.m5d.12xlarge",
    "vcpuNum": 48
   },
   {
    "_defaultOrder": 18,
    "_isFastLaunch": false,
    "category": "General purpose",
    "gpuNum": 0,
    "hideHardwareSpecs": false,
    "memoryGiB": 256,
    "name": "ml.m5d.16xlarge",
    "vcpuNum": 64
   },
   {
    "_defaultOrder": 19,
    "_isFastLaunch": false,
    "category": "General purpose",
    "gpuNum": 0,
    "hideHardwareSpecs": false,
    "memoryGiB": 384,
    "name": "ml.m5d.24xlarge",
    "vcpuNum": 96
   },
   {
    "_defaultOrder": 20,
    "_isFastLaunch": false,
    "category": "General purpose",
    "gpuNum": 0,
    "hideHardwareSpecs": true,
    "memoryGiB": 0,
    "name": "ml.geospatial.interactive",
    "supportedImageNames": [
     "sagemaker-geospatial-v1-0"
    ],
    "vcpuNum": 0
   },
   {
    "_defaultOrder": 21,
    "_isFastLaunch": true,
    "category": "Compute optimized",
    "gpuNum": 0,
    "hideHardwareSpecs": false,
    "memoryGiB": 4,
    "name": "ml.c5.large",
    "vcpuNum": 2
   },
   {
    "_defaultOrder": 22,
    "_isFastLaunch": false,
    "category": "Compute optimized",
    "gpuNum": 0,
    "hideHardwareSpecs": false,
    "memoryGiB": 8,
    "name": "ml.c5.xlarge",
    "vcpuNum": 4
   },
   {
    "_defaultOrder": 23,
    "_isFastLaunch": false,
    "category": "Compute optimized",
    "gpuNum": 0,
    "hideHardwareSpecs": false,
    "memoryGiB": 16,
    "name": "ml.c5.2xlarge",
    "vcpuNum": 8
   },
   {
    "_defaultOrder": 24,
    "_isFastLaunch": false,
    "category": "Compute optimized",
    "gpuNum": 0,
    "hideHardwareSpecs": false,
    "memoryGiB": 32,
    "name": "ml.c5.4xlarge",
    "vcpuNum": 16
   },
   {
    "_defaultOrder": 25,
    "_isFastLaunch": false,
    "category": "Compute optimized",
    "gpuNum": 0,
    "hideHardwareSpecs": false,
    "memoryGiB": 72,
    "name": "ml.c5.9xlarge",
    "vcpuNum": 36
   },
   {
    "_defaultOrder": 26,
    "_isFastLaunch": false,
    "category": "Compute optimized",
    "gpuNum": 0,
    "hideHardwareSpecs": false,
    "memoryGiB": 96,
    "name": "ml.c5.12xlarge",
    "vcpuNum": 48
   },
   {
    "_defaultOrder": 27,
    "_isFastLaunch": false,
    "category": "Compute optimized",
    "gpuNum": 0,
    "hideHardwareSpecs": false,
    "memoryGiB": 144,
    "name": "ml.c5.18xlarge",
    "vcpuNum": 72
   },
   {
    "_defaultOrder": 28,
    "_isFastLaunch": false,
    "category": "Compute optimized",
    "gpuNum": 0,
    "hideHardwareSpecs": false,
    "memoryGiB": 192,
    "name": "ml.c5.24xlarge",
    "vcpuNum": 96
   },
   {
    "_defaultOrder": 29,
    "_isFastLaunch": true,
    "category": "Accelerated computing",
    "gpuNum": 1,
    "hideHardwareSpecs": false,
    "memoryGiB": 16,
    "name": "ml.g4dn.xlarge",
    "vcpuNum": 4
   },
   {
    "_defaultOrder": 30,
    "_isFastLaunch": false,
    "category": "Accelerated computing",
    "gpuNum": 1,
    "hideHardwareSpecs": false,
    "memoryGiB": 32,
    "name": "ml.g4dn.2xlarge",
    "vcpuNum": 8
   },
   {
    "_defaultOrder": 31,
    "_isFastLaunch": false,
    "category": "Accelerated computing",
    "gpuNum": 1,
    "hideHardwareSpecs": false,
    "memoryGiB": 64,
    "name": "ml.g4dn.4xlarge",
    "vcpuNum": 16
   },
   {
    "_defaultOrder": 32,
    "_isFastLaunch": false,
    "category": "Accelerated computing",
    "gpuNum": 1,
    "hideHardwareSpecs": false,
    "memoryGiB": 128,
    "name": "ml.g4dn.8xlarge",
    "vcpuNum": 32
   },
   {
    "_defaultOrder": 33,
    "_isFastLaunch": false,
    "category": "Accelerated computing",
    "gpuNum": 4,
    "hideHardwareSpecs": false,
    "memoryGiB": 192,
    "name": "ml.g4dn.12xlarge",
    "vcpuNum": 48
   },
   {
    "_defaultOrder": 34,
    "_isFastLaunch": false,
    "category": "Accelerated computing",
    "gpuNum": 1,
    "hideHardwareSpecs": false,
    "memoryGiB": 256,
    "name": "ml.g4dn.16xlarge",
    "vcpuNum": 64
   },
   {
    "_defaultOrder": 35,
    "_isFastLaunch": false,
    "category": "Accelerated computing",
    "gpuNum": 1,
    "hideHardwareSpecs": false,
    "memoryGiB": 61,
    "name": "ml.p3.2xlarge",
    "vcpuNum": 8
   },
   {
    "_defaultOrder": 36,
    "_isFastLaunch": false,
    "category": "Accelerated computing",
    "gpuNum": 4,
    "hideHardwareSpecs": false,
    "memoryGiB": 244,
    "name": "ml.p3.8xlarge",
    "vcpuNum": 32
   },
   {
    "_defaultOrder": 37,
    "_isFastLaunch": false,
    "category": "Accelerated computing",
    "gpuNum": 8,
    "hideHardwareSpecs": false,
    "memoryGiB": 488,
    "name": "ml.p3.16xlarge",
    "vcpuNum": 64
   },
   {
    "_defaultOrder": 38,
    "_isFastLaunch": false,
    "category": "Accelerated computing",
    "gpuNum": 8,
    "hideHardwareSpecs": false,
    "memoryGiB": 768,
    "name": "ml.p3dn.24xlarge",
    "vcpuNum": 96
   },
   {
    "_defaultOrder": 39,
    "_isFastLaunch": false,
    "category": "Memory Optimized",
    "gpuNum": 0,
    "hideHardwareSpecs": false,
    "memoryGiB": 16,
    "name": "ml.r5.large",
    "vcpuNum": 2
   },
   {
    "_defaultOrder": 40,
    "_isFastLaunch": false,
    "category": "Memory Optimized",
    "gpuNum": 0,
    "hideHardwareSpecs": false,
    "memoryGiB": 32,
    "name": "ml.r5.xlarge",
    "vcpuNum": 4
   },
   {
    "_defaultOrder": 41,
    "_isFastLaunch": false,
    "category": "Memory Optimized",
    "gpuNum": 0,
    "hideHardwareSpecs": false,
    "memoryGiB": 64,
    "name": "ml.r5.2xlarge",
    "vcpuNum": 8
   },
   {
    "_defaultOrder": 42,
    "_isFastLaunch": false,
    "category": "Memory Optimized",
    "gpuNum": 0,
    "hideHardwareSpecs": false,
    "memoryGiB": 128,
    "name": "ml.r5.4xlarge",
    "vcpuNum": 16
   },
   {
    "_defaultOrder": 43,
    "_isFastLaunch": false,
    "category": "Memory Optimized",
    "gpuNum": 0,
    "hideHardwareSpecs": false,
    "memoryGiB": 256,
    "name": "ml.r5.8xlarge",
    "vcpuNum": 32
   },
   {
    "_defaultOrder": 44,
    "_isFastLaunch": false,
    "category": "Memory Optimized",
    "gpuNum": 0,
    "hideHardwareSpecs": false,
    "memoryGiB": 384,
    "name": "ml.r5.12xlarge",
    "vcpuNum": 48
   },
   {
    "_defaultOrder": 45,
    "_isFastLaunch": false,
    "category": "Memory Optimized",
    "gpuNum": 0,
    "hideHardwareSpecs": false,
    "memoryGiB": 512,
    "name": "ml.r5.16xlarge",
    "vcpuNum": 64
   },
   {
    "_defaultOrder": 46,
    "_isFastLaunch": false,
    "category": "Memory Optimized",
    "gpuNum": 0,
    "hideHardwareSpecs": false,
    "memoryGiB": 768,
    "name": "ml.r5.24xlarge",
    "vcpuNum": 96
   },
   {
    "_defaultOrder": 47,
    "_isFastLaunch": false,
    "category": "Accelerated computing",
    "gpuNum": 1,
    "hideHardwareSpecs": false,
    "memoryGiB": 16,
    "name": "ml.g5.xlarge",
    "vcpuNum": 4
   },
   {
    "_defaultOrder": 48,
    "_isFastLaunch": false,
    "category": "Accelerated computing",
    "gpuNum": 1,
    "hideHardwareSpecs": false,
    "memoryGiB": 32,
    "name": "ml.g5.2xlarge",
    "vcpuNum": 8
   },
   {
    "_defaultOrder": 49,
    "_isFastLaunch": false,
    "category": "Accelerated computing",
    "gpuNum": 1,
    "hideHardwareSpecs": false,
    "memoryGiB": 64,
    "name": "ml.g5.4xlarge",
    "vcpuNum": 16
   },
   {
    "_defaultOrder": 50,
    "_isFastLaunch": false,
    "category": "Accelerated computing",
    "gpuNum": 1,
    "hideHardwareSpecs": false,
    "memoryGiB": 128,
    "name": "ml.g5.8xlarge",
    "vcpuNum": 32
   },
   {
    "_defaultOrder": 51,
    "_isFastLaunch": false,
    "category": "Accelerated computing",
    "gpuNum": 1,
    "hideHardwareSpecs": false,
    "memoryGiB": 256,
    "name": "ml.g5.16xlarge",
    "vcpuNum": 64
   },
   {
    "_defaultOrder": 52,
    "_isFastLaunch": false,
    "category": "Accelerated computing",
    "gpuNum": 4,
    "hideHardwareSpecs": false,
    "memoryGiB": 192,
    "name": "ml.g5.12xlarge",
    "vcpuNum": 48
   },
   {
    "_defaultOrder": 53,
    "_isFastLaunch": false,
    "category": "Accelerated computing",
    "gpuNum": 4,
    "hideHardwareSpecs": false,
    "memoryGiB": 384,
    "name": "ml.g5.24xlarge",
    "vcpuNum": 96
   },
   {
    "_defaultOrder": 54,
    "_isFastLaunch": false,
    "category": "Accelerated computing",
    "gpuNum": 8,
    "hideHardwareSpecs": false,
    "memoryGiB": 768,
    "name": "ml.g5.48xlarge",
    "vcpuNum": 192
   },
   {
    "_defaultOrder": 55,
    "_isFastLaunch": false,
    "category": "Accelerated computing",
    "gpuNum": 8,
    "hideHardwareSpecs": false,
    "memoryGiB": 1152,
    "name": "ml.p4d.24xlarge",
    "vcpuNum": 96
   },
   {
    "_defaultOrder": 56,
    "_isFastLaunch": false,
    "category": "Accelerated computing",
    "gpuNum": 8,
    "hideHardwareSpecs": false,
    "memoryGiB": 1152,
    "name": "ml.p4de.24xlarge",
    "vcpuNum": 96
   }
  ],
  "instance_type": "ml.t3.medium",
  "kernelspec": {
   "display_name": "Python 3",
   "language": "python",
   "name": "python3"
  },
  "language_info": {
   "codemirror_mode": {
    "name": "ipython",
    "version": 3
   },
   "file_extension": ".py",
   "mimetype": "text/x-python",
   "name": "python",
   "nbconvert_exporter": "python",
   "pygments_lexer": "ipython3",
   "version": "3.9.7"
  }
 },
 "nbformat": 4,
 "nbformat_minor": 5
}
