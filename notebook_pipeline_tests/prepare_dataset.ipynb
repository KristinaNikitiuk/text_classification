{
 "cells": [
  {
   "cell_type": "code",
   "execution_count": 4,
   "id": "7f18a39a-b7b1-4655-80d9-f491a09f0246",
   "metadata": {},
   "outputs": [],
   "source": [
    "!python -m pip install amazon-textract-caller --upgrade\n",
    "!python -m pip install amazon-textract-response-parser --upgrade"
   ]
  },
  {
   "cell_type": "code",
   "execution_count": 2,
   "id": "d5f37f34-85c6-429f-b20d-3db1b50e27f1",
   "metadata": {
    "ExecuteTime": {
     "end_time": "2023-12-12T11:40:52.118761Z",
     "start_time": "2023-12-12T11:40:51.616536Z"
    },
    "tags": []
   },
   "outputs": [],
   "source": [
    "import boto3\n",
    "from IPython.display import Image, display\n",
    "from trp import Document\n",
    "from PIL import Image as PImage, ImageDraw\n",
    "import time\n",
    "from IPython.display import IFrame"
   ]
  },
  {
   "cell_type": "code",
   "execution_count": 3,
   "id": "10836d2d-4aa8-447b-88b1-7fc37357c78f",
   "metadata": {
    "tags": []
   },
   "outputs": [],
   "source": [
    "mySession = boto3.session.Session()\n",
    "awsRegion = mySession.region_name\n",
    "\n",
    "s3BucketName = \"aws-workshops-\" + awsRegion\n",
    "s3 = boto3.client('s3')\n",
    "textract = boto3.client('textract')"
   ]
  },
  {
   "cell_type": "code",
   "execution_count": 60,
   "id": "a24d28de-b375-4cc0-9d2c-6f8f4bf45ab9",
   "metadata": {
    "tags": []
   },
   "outputs": [],
   "source": [
    "txt_dataset = []"
   ]
  },
  {
   "cell_type": "code",
   "execution_count": 61,
   "id": "262ca442-58ee-4148-ad96-c19736f32bbc",
   "metadata": {
    "tags": []
   },
   "outputs": [
    {
     "name": "stdout",
     "output_type": "stream",
     "text": [
      "dataset/scientific_publication/doc_000530.png\n",
      "dataset/scientific_publication/doc_000349.png\n",
      "dataset/scientific_publication/doc_000228.png\n",
      "dataset/scientific_publication/doc_000309.png\n",
      "dataset/scientific_publication/doc_000345.png\n",
      "dataset/scientific_publication/doc_000741.png\n",
      "dataset/scientific_publication/doc_000480.png\n",
      "dataset/scientific_publication/doc_000615.png\n",
      "dataset/scientific_publication/doc_000453.png\n",
      "dataset/scientific_publication/doc_000534.png\n",
      "dataset/scientific_publication/doc_000785.png\n",
      "dataset/scientific_publication/doc_000130.png\n",
      "dataset/scientific_publication/doc_000767.png\n",
      "dataset/scientific_publication/doc_000121.png\n",
      "dataset/scientific_publication/doc_000235.png\n",
      "dataset/scientific_publication/doc_000334.png\n",
      "dataset/scientific_publication/doc_000451.png\n",
      "dataset/scientific_publication/doc_000864.png\n",
      "dataset/scientific_publication/doc_000594.png\n",
      "dataset/scientific_publication/doc_000756.png\n",
      "dataset/scientific_publication/doc_000891.png\n",
      "dataset/scientific_publication/doc_000509.png\n",
      "dataset/scientific_publication/doc_000392.png\n",
      "dataset/scientific_publication/doc_000950.png\n",
      "dataset/scientific_publication/doc_000437.png\n",
      "dataset/scientific_publication/doc_000617.png\n",
      "dataset/scientific_publication/doc_000769.png\n",
      "dataset/scientific_publication/doc_000240.png\n",
      "dataset/scientific_publication/doc_000697.png\n",
      "dataset/scientific_publication/doc_000045.png\n",
      "dataset/scientific_publication/doc_000522.png\n",
      "dataset/scientific_publication/doc_000513.png\n",
      "dataset/scientific_publication/doc_000171.png\n",
      "dataset/scientific_publication/doc_000584.png\n",
      "dataset/scientific_publication/doc_000845.png\n",
      "dataset/scientific_publication/doc_000089.png\n",
      "dataset/scientific_publication/doc_000445.png\n",
      "dataset/scientific_publication/doc_000832.png\n",
      "dataset/scientific_publication/doc_000311.png\n",
      "dataset/scientific_publication/doc_000050.png\n",
      "dataset/scientific_publication/doc_000498.png\n",
      "dataset/scientific_publication/doc_000821.png\n",
      "dataset/scientific_publication/doc_000128.png\n",
      "dataset/scientific_publication/doc_000515.png\n",
      "dataset/scientific_publication/doc_000766.png\n",
      "dataset/scientific_publication/doc_000298.png\n",
      "dataset/scientific_publication/doc_000429.png\n",
      "dataset/scientific_publication/doc_000942.png\n",
      "dataset/scientific_publication/doc_000285.png\n",
      "dataset/scientific_publication/doc_000438.png\n",
      "dataset/scientific_publication/doc_000016.png\n",
      "dataset/scientific_publication/doc_000250.png\n",
      "dataset/scientific_publication/doc_000061.png\n",
      "dataset/scientific_publication/doc_000779.png\n",
      "dataset/scientific_publication/doc_000698.png\n"
     ]
    }
   ],
   "source": [
    "import os\n",
    "\n",
    "directory = 'dataset/scientific_publication/'\n",
    "\n",
    "for filename in os.scandir(directory):\n",
    "    if filename.is_file():\n",
    "        print(filename.path)\n",
    "        with open(filename.path, 'rb') as document:\n",
    "            imageBytes = bytearray(document.read())\n",
    "            response = textract.detect_document_text(Document={'Bytes': imageBytes})\n",
    "\n",
    "            single_response = ' '.join(item[\"Text\"] for item in response[\"Blocks\"] if item[\"BlockType\"] == \"LINE\")\n",
    "            # print(single_response)\n",
    "            txt_dataset.append({'class': 'scientific_publication', 'txt': single_response})"
   ]
  },
  {
   "cell_type": "code",
   "execution_count": 62,
   "id": "542e9800-9cd2-4f15-a077-6ca1075d0746",
   "metadata": {
    "tags": []
   },
   "outputs": [],
   "source": [
    "# Document\n",
    "# documentName = \"dataset/resume/doc_000080.png\"\n",
    "# display(Image(filename=documentName))"
   ]
  },
  {
   "cell_type": "code",
   "execution_count": 63,
   "id": "5edd04d2-d956-486b-b286-471845d8bf41",
   "metadata": {
    "tags": []
   },
   "outputs": [],
   "source": [
    "import pandas as pd\n",
    "txt_dataset = pd.DataFrame.from_records(txt_dataset)\n",
    "txt_dataset.to_csv('df_scientific_publication.csv', index=False)"
   ]
  },
  {
   "cell_type": "code",
   "execution_count": 11,
   "id": "fa2de64c-2ebc-4fd7-ae14-b2b3e1d4c8b8",
   "metadata": {
    "tags": []
   },
   "outputs": [],
   "source": [
    "# Amazon Comprehend client\n",
    "# comprehend = boto3.client('comprehend')\n",
    "\n",
    "# Detect medical entities\n",
    "# entities =  comprehend.detect_entities(Text=response[\"Blocks\"])"
   ]
  },
  {
   "cell_type": "code",
   "execution_count": 12,
   "id": "0330c108-70e7-472c-9070-2ae0e36af806",
   "metadata": {
    "tags": []
   },
   "outputs": [],
   "source": [
    "# entities =  comprehend.detect_entities(LanguageCode=\"en\", Text=single_response)"
   ]
  },
  {
   "cell_type": "code",
   "execution_count": 14,
   "id": "ef155e10-f717-4683-8a07-91c360e2d73d",
   "metadata": {
    "tags": []
   },
   "outputs": [],
   "source": [
    "# entities"
   ]
  },
  {
   "cell_type": "code",
   "execution_count": 2,
   "id": "3f2481bb-825b-4a07-a4d8-f179111f206f",
   "metadata": {
    "tags": []
   },
   "outputs": [
    {
     "name": "stdout",
     "output_type": "stream",
     "text": [
      "                      class                                                txt\n",
      "0                     email  JLL. 18.2000 5:20PM PMMC NO. 344 P.C 208161845...\n",
      "1                     email  From: Maurici, Vito on Wed, Mar 25, 1998 6:03 ...\n",
      "2                     email  From: Smith, Jeannette W. To: Griscom, Tom C.;...\n",
      "3                     email  From: Reynolds, Juacane L.(RBM) 2300 To: Hickm...\n",
      "4                     email  Original Message-- From: Moore Tamara Sent: Mo...\n",
      "..                      ...                                                ...\n",
      "160  scientific_publication  The Contribution of Tobacco Constituents to Ph...\n",
      "161  scientific_publication  Environment International Vol. 20 No. 6, PF 6....\n",
      "162  scientific_publication  SPODIU, EXPERIMENTAL file Isn PATHOLINA (Th 35...\n",
      "163  scientific_publication  p53, PAH, Development DNA damage article A ter...\n",
      "164  scientific_publication  Archiv für Hygiene 1/69 und Bakteriologie Sond...\n",
      "\n",
      "[165 rows x 2 columns]\n"
     ]
    }
   ],
   "source": [
    "import pandas as pd \n",
    "\n",
    "# merging two csv files \n",
    "df = pd.concat(map(pd.read_csv, ['df_emails.csv', 'df_resume.csv', 'df_scientific_publication.csv']), ignore_index=True) \n",
    "print(df) \n"
   ]
  },
  {
   "cell_type": "code",
   "execution_count": 3,
   "id": "a2ea0efe-d879-47a4-8598-f077355ff92b",
   "metadata": {
    "tags": []
   },
   "outputs": [],
   "source": [
    "df.to_csv('df.csv', index = False)"
   ]
  },
  {
   "cell_type": "code",
   "execution_count": null,
   "id": "86514fa2-2cb5-4024-a04c-99adae244831",
   "metadata": {},
   "outputs": [],
   "source": []
  },
  {
   "cell_type": "markdown",
   "id": "bf76b668-a3e5-4960-9914-0bef020cbb5e",
   "metadata": {},
   "source": [
    "## TEST ENDPOINT"
   ]
  },
  {
   "cell_type": "code",
   "execution_count": 4,
   "id": "9d18f07b-190c-4aa6-b609-067891cd8e55",
   "metadata": {
    "tags": []
   },
   "outputs": [],
   "source": [
    "import boto3\n",
    "from IPython.display import Image, display\n",
    "from trp import Document\n",
    "from PIL import Image as PImage, ImageDraw\n",
    "import time\n",
    "from IPython.display import IFrame"
   ]
  },
  {
   "cell_type": "code",
   "execution_count": 5,
   "id": "e1023ff5-9968-411a-856e-05668568585f",
   "metadata": {
    "tags": []
   },
   "outputs": [],
   "source": [
    "mySession = boto3.session.Session()\n",
    "awsRegion = mySession.region_name\n",
    "\n",
    "s3BucketName = \"aws-workshops-\" + awsRegion\n",
    "s3 = boto3.client('s3')\n",
    "textract = boto3.client('textract')"
   ]
  },
  {
   "cell_type": "code",
   "execution_count": null,
   "id": "4d09aad5-9044-43a5-aaf4-1619a363b9e3",
   "metadata": {},
   "outputs": [],
   "source": [
    "filename = 's3://businesssolver-test-data/doc_000142.png'"
   ]
  },
  {
   "cell_type": "code",
   "execution_count": 10,
   "id": "327783f3-6d0f-444c-a61f-24e7193b9a4f",
   "metadata": {
    "tags": []
   },
   "outputs": [],
   "source": [
    "s3 = boto3.resource('s3')\n",
    "bucket = s3.Bucket('businesssolver-test-data')\n",
    "s3_object = bucket.Object('doc_000142.png')\n",
    "response = s3_object.get()"
   ]
  },
  {
   "cell_type": "code",
   "execution_count": 11,
   "id": "866f93a3-320b-47a4-b56b-06f9452b4d2e",
   "metadata": {
    "tags": []
   },
   "outputs": [],
   "source": [
    "file_stream = response['Body']"
   ]
  },
  {
   "cell_type": "code",
   "execution_count": 17,
   "id": "e6e14c15-00fc-47b7-ba36-2aae78312714",
   "metadata": {
    "tags": []
   },
   "outputs": [
    {
     "data": {
      "text/plain": [
       "<botocore.response.StreamingBody at 0x7f5154238460>"
      ]
     },
     "execution_count": 17,
     "metadata": {},
     "output_type": "execute_result"
    }
   ],
   "source": [
    "file_stream"
   ]
  },
  {
   "cell_type": "code",
   "execution_count": 19,
   "id": "27990e7c-6fb3-4774-aa4b-902551df1120",
   "metadata": {
    "tags": []
   },
   "outputs": [],
   "source": [
    "from PIL import Image\n",
    "import numpy as np"
   ]
  },
  {
   "cell_type": "code",
   "execution_count": 1,
   "id": "bb53d9da-cc6d-4cff-8fe9-848cb0a7f17a",
   "metadata": {
    "tags": []
   },
   "outputs": [],
   "source": [
    "im = Image.open(file_stream)\n",
    "img_bytes = np.array(im)"
   ]
  },
  {
   "cell_type": "code",
   "execution_count": null,
   "id": "f1fbdebc-602d-47b2-9a2b-c0d7025fcacd",
   "metadata": {},
   "outputs": [],
   "source": [
    "if filename.is_file():\n",
    "    print(filename.path)\n",
    "    with open(filename.path, 'rb') as document:\n",
    "        imageBytes = bytearray(document.read())\n",
    "        response = textract.detect_document_text(Document={'Bytes': imageBytes})\n",
    "\n",
    "        single_response = ' '.join(item[\"Text\"] for item in response[\"Blocks\"] if item[\"BlockType\"] == \"LINE\")"
   ]
  },
  {
   "cell_type": "code",
   "execution_count": 9,
   "id": "43e498d97fa74c15",
   "metadata": {
    "ExecuteTime": {
     "end_time": "2023-12-12T11:49:51.453348Z",
     "start_time": "2023-12-12T11:49:51.438096Z"
    }
   },
   "outputs": [],
   "source": [
    "import pandas as pd\n",
    "\n",
    "vanessa_imgs_annotations = {}"
   ]
  },
  {
   "cell_type": "code",
   "execution_count": 23,
   "id": "cbaf85aed61aa38b",
   "metadata": {
    "ExecuteTime": {
     "end_time": "2023-12-12T12:03:17.439028Z",
     "start_time": "2023-12-12T12:03:17.425751Z"
    }
   },
   "outputs": [
    {
     "name": "stdout",
     "output_type": "stream",
     "text": [
      "vanessa_imgs/RETIREE_MEDICAL_ACCOUNT_(RMA)_REIMBURSEMENT_FORM/bc8fafad-23cd-487a-9a02-e803f66053b6.jpeg\n",
      "vanessa_imgs/RETIREE_MEDICAL_ACCOUNT_(RMA)_REIMBURSEMENT_FORM/abbb58f4-aac3-498f-bd92-529dcc55291c.jpeg\n",
      "vanessa_imgs/RETIREE_MEDICAL_ACCOUNT_(RMA)_REIMBURSEMENT_FORM/29df1d53-82b9-4531-bbb3-32807ab92324.jpeg\n",
      "vanessa_imgs/RETIREE_MEDICAL_ACCOUNT_(RMA)_REIMBURSEMENT_FORM/c702a094-bbd7-4dc0-9179-e7fb82e3102e.jpeg\n",
      "vanessa_imgs/RETIREE_MEDICAL_ACCOUNT_(RMA)_REIMBURSEMENT_FORM/9a980b1d-b814-4f01-a278-5238a6e60e84.jpeg\n",
      "vanessa_imgs/RETIREE_MEDICAL_ACCOUNT_(RMA)_REIMBURSEMENT_FORM/cfe819e2-aca5-41f9-b180-a9a81c441fe3.jpeg\n"
     ]
    }
   ],
   "source": [
    "import os\n",
    "\n",
    "directory = 'vanessa_imgs/RETIREE_MEDICAL_ACCOUNT_(RMA)_REIMBURSEMENT_FORM'\n",
    "\n",
    "for filename in os.scandir(directory):\n",
    "    if filename.is_file():\n",
    "        print(filename.path)\n",
    "        # with open(filename.path, 'rb') as document:\n",
    "        #     imageBytes = bytearray(document.read())\n",
    "        #     response = textract.detect_document_text(Document={'Bytes': imageBytes})\n",
    "        # \n",
    "        #     single_response = ' '.join(item[\"Text\"] for item in response[\"Blocks\"] if item[\"BlockType\"] == \"LINE\")\n",
    "        #     # print(single_response)\n",
    "        # vanessa_imgs_annotations.append({'class': 'BALANCE_DUE', 'filename': filename})"
   ]
  },
  {
   "cell_type": "code",
   "execution_count": 12,
   "id": "69629d0cb72852a9",
   "metadata": {
    "ExecuteTime": {
     "end_time": "2023-12-12T11:50:22.448701Z",
     "start_time": "2023-12-12T11:50:22.438217Z"
    }
   },
   "outputs": [
    {
     "data": {
      "text/plain": [
       "{'class': 'BALANCE_DUE',\n",
       " 'filename': <DirEntry '5464e3ce-3d76-4516-a171-564ee59d051c.jpeg'>}"
      ]
     },
     "execution_count": 12,
     "metadata": {},
     "output_type": "execute_result"
    }
   ],
   "source": [
    "vanessa_imgs_annotations"
   ]
  },
  {
   "cell_type": "code",
   "execution_count": null,
   "id": "d52f081bbb3a992d",
   "metadata": {},
   "outputs": [],
   "source": [
    "import pandas as pd\n",
    "txt_dataset = pd.DataFrame.from_records(vanessa_imgs_annotations)\n",
    "txt_dataset.to_csv('vanessa_imgs_annotations.csv', index=False)"
   ]
  }
 ],
 "metadata": {
  "availableInstances": [
   {
    "_defaultOrder": 0,
    "_isFastLaunch": true,
    "category": "General purpose",
    "gpuNum": 0,
    "hideHardwareSpecs": false,
    "memoryGiB": 4,
    "name": "ml.t3.medium",
    "vcpuNum": 2
   },
   {
    "_defaultOrder": 1,
    "_isFastLaunch": false,
    "category": "General purpose",
    "gpuNum": 0,
    "hideHardwareSpecs": false,
    "memoryGiB": 8,
    "name": "ml.t3.large",
    "vcpuNum": 2
   },
   {
    "_defaultOrder": 2,
    "_isFastLaunch": false,
    "category": "General purpose",
    "gpuNum": 0,
    "hideHardwareSpecs": false,
    "memoryGiB": 16,
    "name": "ml.t3.xlarge",
    "vcpuNum": 4
   },
   {
    "_defaultOrder": 3,
    "_isFastLaunch": false,
    "category": "General purpose",
    "gpuNum": 0,
    "hideHardwareSpecs": false,
    "memoryGiB": 32,
    "name": "ml.t3.2xlarge",
    "vcpuNum": 8
   },
   {
    "_defaultOrder": 4,
    "_isFastLaunch": true,
    "category": "General purpose",
    "gpuNum": 0,
    "hideHardwareSpecs": false,
    "memoryGiB": 8,
    "name": "ml.m5.large",
    "vcpuNum": 2
   },
   {
    "_defaultOrder": 5,
    "_isFastLaunch": false,
    "category": "General purpose",
    "gpuNum": 0,
    "hideHardwareSpecs": false,
    "memoryGiB": 16,
    "name": "ml.m5.xlarge",
    "vcpuNum": 4
   },
   {
    "_defaultOrder": 6,
    "_isFastLaunch": false,
    "category": "General purpose",
    "gpuNum": 0,
    "hideHardwareSpecs": false,
    "memoryGiB": 32,
    "name": "ml.m5.2xlarge",
    "vcpuNum": 8
   },
   {
    "_defaultOrder": 7,
    "_isFastLaunch": false,
    "category": "General purpose",
    "gpuNum": 0,
    "hideHardwareSpecs": false,
    "memoryGiB": 64,
    "name": "ml.m5.4xlarge",
    "vcpuNum": 16
   },
   {
    "_defaultOrder": 8,
    "_isFastLaunch": false,
    "category": "General purpose",
    "gpuNum": 0,
    "hideHardwareSpecs": false,
    "memoryGiB": 128,
    "name": "ml.m5.8xlarge",
    "vcpuNum": 32
   },
   {
    "_defaultOrder": 9,
    "_isFastLaunch": false,
    "category": "General purpose",
    "gpuNum": 0,
    "hideHardwareSpecs": false,
    "memoryGiB": 192,
    "name": "ml.m5.12xlarge",
    "vcpuNum": 48
   },
   {
    "_defaultOrder": 10,
    "_isFastLaunch": false,
    "category": "General purpose",
    "gpuNum": 0,
    "hideHardwareSpecs": false,
    "memoryGiB": 256,
    "name": "ml.m5.16xlarge",
    "vcpuNum": 64
   },
   {
    "_defaultOrder": 11,
    "_isFastLaunch": false,
    "category": "General purpose",
    "gpuNum": 0,
    "hideHardwareSpecs": false,
    "memoryGiB": 384,
    "name": "ml.m5.24xlarge",
    "vcpuNum": 96
   },
   {
    "_defaultOrder": 12,
    "_isFastLaunch": false,
    "category": "General purpose",
    "gpuNum": 0,
    "hideHardwareSpecs": false,
    "memoryGiB": 8,
    "name": "ml.m5d.large",
    "vcpuNum": 2
   },
   {
    "_defaultOrder": 13,
    "_isFastLaunch": false,
    "category": "General purpose",
    "gpuNum": 0,
    "hideHardwareSpecs": false,
    "memoryGiB": 16,
    "name": "ml.m5d.xlarge",
    "vcpuNum": 4
   },
   {
    "_defaultOrder": 14,
    "_isFastLaunch": false,
    "category": "General purpose",
    "gpuNum": 0,
    "hideHardwareSpecs": false,
    "memoryGiB": 32,
    "name": "ml.m5d.2xlarge",
    "vcpuNum": 8
   },
   {
    "_defaultOrder": 15,
    "_isFastLaunch": false,
    "category": "General purpose",
    "gpuNum": 0,
    "hideHardwareSpecs": false,
    "memoryGiB": 64,
    "name": "ml.m5d.4xlarge",
    "vcpuNum": 16
   },
   {
    "_defaultOrder": 16,
    "_isFastLaunch": false,
    "category": "General purpose",
    "gpuNum": 0,
    "hideHardwareSpecs": false,
    "memoryGiB": 128,
    "name": "ml.m5d.8xlarge",
    "vcpuNum": 32
   },
   {
    "_defaultOrder": 17,
    "_isFastLaunch": false,
    "category": "General purpose",
    "gpuNum": 0,
    "hideHardwareSpecs": false,
    "memoryGiB": 192,
    "name": "ml.m5d.12xlarge",
    "vcpuNum": 48
   },
   {
    "_defaultOrder": 18,
    "_isFastLaunch": false,
    "category": "General purpose",
    "gpuNum": 0,
    "hideHardwareSpecs": false,
    "memoryGiB": 256,
    "name": "ml.m5d.16xlarge",
    "vcpuNum": 64
   },
   {
    "_defaultOrder": 19,
    "_isFastLaunch": false,
    "category": "General purpose",
    "gpuNum": 0,
    "hideHardwareSpecs": false,
    "memoryGiB": 384,
    "name": "ml.m5d.24xlarge",
    "vcpuNum": 96
   },
   {
    "_defaultOrder": 20,
    "_isFastLaunch": false,
    "category": "General purpose",
    "gpuNum": 0,
    "hideHardwareSpecs": true,
    "memoryGiB": 0,
    "name": "ml.geospatial.interactive",
    "supportedImageNames": [
     "sagemaker-geospatial-v1-0"
    ],
    "vcpuNum": 0
   },
   {
    "_defaultOrder": 21,
    "_isFastLaunch": true,
    "category": "Compute optimized",
    "gpuNum": 0,
    "hideHardwareSpecs": false,
    "memoryGiB": 4,
    "name": "ml.c5.large",
    "vcpuNum": 2
   },
   {
    "_defaultOrder": 22,
    "_isFastLaunch": false,
    "category": "Compute optimized",
    "gpuNum": 0,
    "hideHardwareSpecs": false,
    "memoryGiB": 8,
    "name": "ml.c5.xlarge",
    "vcpuNum": 4
   },
   {
    "_defaultOrder": 23,
    "_isFastLaunch": false,
    "category": "Compute optimized",
    "gpuNum": 0,
    "hideHardwareSpecs": false,
    "memoryGiB": 16,
    "name": "ml.c5.2xlarge",
    "vcpuNum": 8
   },
   {
    "_defaultOrder": 24,
    "_isFastLaunch": false,
    "category": "Compute optimized",
    "gpuNum": 0,
    "hideHardwareSpecs": false,
    "memoryGiB": 32,
    "name": "ml.c5.4xlarge",
    "vcpuNum": 16
   },
   {
    "_defaultOrder": 25,
    "_isFastLaunch": false,
    "category": "Compute optimized",
    "gpuNum": 0,
    "hideHardwareSpecs": false,
    "memoryGiB": 72,
    "name": "ml.c5.9xlarge",
    "vcpuNum": 36
   },
   {
    "_defaultOrder": 26,
    "_isFastLaunch": false,
    "category": "Compute optimized",
    "gpuNum": 0,
    "hideHardwareSpecs": false,
    "memoryGiB": 96,
    "name": "ml.c5.12xlarge",
    "vcpuNum": 48
   },
   {
    "_defaultOrder": 27,
    "_isFastLaunch": false,
    "category": "Compute optimized",
    "gpuNum": 0,
    "hideHardwareSpecs": false,
    "memoryGiB": 144,
    "name": "ml.c5.18xlarge",
    "vcpuNum": 72
   },
   {
    "_defaultOrder": 28,
    "_isFastLaunch": false,
    "category": "Compute optimized",
    "gpuNum": 0,
    "hideHardwareSpecs": false,
    "memoryGiB": 192,
    "name": "ml.c5.24xlarge",
    "vcpuNum": 96
   },
   {
    "_defaultOrder": 29,
    "_isFastLaunch": true,
    "category": "Accelerated computing",
    "gpuNum": 1,
    "hideHardwareSpecs": false,
    "memoryGiB": 16,
    "name": "ml.g4dn.xlarge",
    "vcpuNum": 4
   },
   {
    "_defaultOrder": 30,
    "_isFastLaunch": false,
    "category": "Accelerated computing",
    "gpuNum": 1,
    "hideHardwareSpecs": false,
    "memoryGiB": 32,
    "name": "ml.g4dn.2xlarge",
    "vcpuNum": 8
   },
   {
    "_defaultOrder": 31,
    "_isFastLaunch": false,
    "category": "Accelerated computing",
    "gpuNum": 1,
    "hideHardwareSpecs": false,
    "memoryGiB": 64,
    "name": "ml.g4dn.4xlarge",
    "vcpuNum": 16
   },
   {
    "_defaultOrder": 32,
    "_isFastLaunch": false,
    "category": "Accelerated computing",
    "gpuNum": 1,
    "hideHardwareSpecs": false,
    "memoryGiB": 128,
    "name": "ml.g4dn.8xlarge",
    "vcpuNum": 32
   },
   {
    "_defaultOrder": 33,
    "_isFastLaunch": false,
    "category": "Accelerated computing",
    "gpuNum": 4,
    "hideHardwareSpecs": false,
    "memoryGiB": 192,
    "name": "ml.g4dn.12xlarge",
    "vcpuNum": 48
   },
   {
    "_defaultOrder": 34,
    "_isFastLaunch": false,
    "category": "Accelerated computing",
    "gpuNum": 1,
    "hideHardwareSpecs": false,
    "memoryGiB": 256,
    "name": "ml.g4dn.16xlarge",
    "vcpuNum": 64
   },
   {
    "_defaultOrder": 35,
    "_isFastLaunch": false,
    "category": "Accelerated computing",
    "gpuNum": 1,
    "hideHardwareSpecs": false,
    "memoryGiB": 61,
    "name": "ml.p3.2xlarge",
    "vcpuNum": 8
   },
   {
    "_defaultOrder": 36,
    "_isFastLaunch": false,
    "category": "Accelerated computing",
    "gpuNum": 4,
    "hideHardwareSpecs": false,
    "memoryGiB": 244,
    "name": "ml.p3.8xlarge",
    "vcpuNum": 32
   },
   {
    "_defaultOrder": 37,
    "_isFastLaunch": false,
    "category": "Accelerated computing",
    "gpuNum": 8,
    "hideHardwareSpecs": false,
    "memoryGiB": 488,
    "name": "ml.p3.16xlarge",
    "vcpuNum": 64
   },
   {
    "_defaultOrder": 38,
    "_isFastLaunch": false,
    "category": "Accelerated computing",
    "gpuNum": 8,
    "hideHardwareSpecs": false,
    "memoryGiB": 768,
    "name": "ml.p3dn.24xlarge",
    "vcpuNum": 96
   },
   {
    "_defaultOrder": 39,
    "_isFastLaunch": false,
    "category": "Memory Optimized",
    "gpuNum": 0,
    "hideHardwareSpecs": false,
    "memoryGiB": 16,
    "name": "ml.r5.large",
    "vcpuNum": 2
   },
   {
    "_defaultOrder": 40,
    "_isFastLaunch": false,
    "category": "Memory Optimized",
    "gpuNum": 0,
    "hideHardwareSpecs": false,
    "memoryGiB": 32,
    "name": "ml.r5.xlarge",
    "vcpuNum": 4
   },
   {
    "_defaultOrder": 41,
    "_isFastLaunch": false,
    "category": "Memory Optimized",
    "gpuNum": 0,
    "hideHardwareSpecs": false,
    "memoryGiB": 64,
    "name": "ml.r5.2xlarge",
    "vcpuNum": 8
   },
   {
    "_defaultOrder": 42,
    "_isFastLaunch": false,
    "category": "Memory Optimized",
    "gpuNum": 0,
    "hideHardwareSpecs": false,
    "memoryGiB": 128,
    "name": "ml.r5.4xlarge",
    "vcpuNum": 16
   },
   {
    "_defaultOrder": 43,
    "_isFastLaunch": false,
    "category": "Memory Optimized",
    "gpuNum": 0,
    "hideHardwareSpecs": false,
    "memoryGiB": 256,
    "name": "ml.r5.8xlarge",
    "vcpuNum": 32
   },
   {
    "_defaultOrder": 44,
    "_isFastLaunch": false,
    "category": "Memory Optimized",
    "gpuNum": 0,
    "hideHardwareSpecs": false,
    "memoryGiB": 384,
    "name": "ml.r5.12xlarge",
    "vcpuNum": 48
   },
   {
    "_defaultOrder": 45,
    "_isFastLaunch": false,
    "category": "Memory Optimized",
    "gpuNum": 0,
    "hideHardwareSpecs": false,
    "memoryGiB": 512,
    "name": "ml.r5.16xlarge",
    "vcpuNum": 64
   },
   {
    "_defaultOrder": 46,
    "_isFastLaunch": false,
    "category": "Memory Optimized",
    "gpuNum": 0,
    "hideHardwareSpecs": false,
    "memoryGiB": 768,
    "name": "ml.r5.24xlarge",
    "vcpuNum": 96
   },
   {
    "_defaultOrder": 47,
    "_isFastLaunch": false,
    "category": "Accelerated computing",
    "gpuNum": 1,
    "hideHardwareSpecs": false,
    "memoryGiB": 16,
    "name": "ml.g5.xlarge",
    "vcpuNum": 4
   },
   {
    "_defaultOrder": 48,
    "_isFastLaunch": false,
    "category": "Accelerated computing",
    "gpuNum": 1,
    "hideHardwareSpecs": false,
    "memoryGiB": 32,
    "name": "ml.g5.2xlarge",
    "vcpuNum": 8
   },
   {
    "_defaultOrder": 49,
    "_isFastLaunch": false,
    "category": "Accelerated computing",
    "gpuNum": 1,
    "hideHardwareSpecs": false,
    "memoryGiB": 64,
    "name": "ml.g5.4xlarge",
    "vcpuNum": 16
   },
   {
    "_defaultOrder": 50,
    "_isFastLaunch": false,
    "category": "Accelerated computing",
    "gpuNum": 1,
    "hideHardwareSpecs": false,
    "memoryGiB": 128,
    "name": "ml.g5.8xlarge",
    "vcpuNum": 32
   },
   {
    "_defaultOrder": 51,
    "_isFastLaunch": false,
    "category": "Accelerated computing",
    "gpuNum": 1,
    "hideHardwareSpecs": false,
    "memoryGiB": 256,
    "name": "ml.g5.16xlarge",
    "vcpuNum": 64
   },
   {
    "_defaultOrder": 52,
    "_isFastLaunch": false,
    "category": "Accelerated computing",
    "gpuNum": 4,
    "hideHardwareSpecs": false,
    "memoryGiB": 192,
    "name": "ml.g5.12xlarge",
    "vcpuNum": 48
   },
   {
    "_defaultOrder": 53,
    "_isFastLaunch": false,
    "category": "Accelerated computing",
    "gpuNum": 4,
    "hideHardwareSpecs": false,
    "memoryGiB": 384,
    "name": "ml.g5.24xlarge",
    "vcpuNum": 96
   },
   {
    "_defaultOrder": 54,
    "_isFastLaunch": false,
    "category": "Accelerated computing",
    "gpuNum": 8,
    "hideHardwareSpecs": false,
    "memoryGiB": 768,
    "name": "ml.g5.48xlarge",
    "vcpuNum": 192
   },
   {
    "_defaultOrder": 55,
    "_isFastLaunch": false,
    "category": "Accelerated computing",
    "gpuNum": 8,
    "hideHardwareSpecs": false,
    "memoryGiB": 1152,
    "name": "ml.p4d.24xlarge",
    "vcpuNum": 96
   },
   {
    "_defaultOrder": 56,
    "_isFastLaunch": false,
    "category": "Accelerated computing",
    "gpuNum": 8,
    "hideHardwareSpecs": false,
    "memoryGiB": 1152,
    "name": "ml.p4de.24xlarge",
    "vcpuNum": 96
   }
  ],
  "instance_type": "ml.t3.medium",
  "kernelspec": {
   "display_name": "Python 3",
   "language": "python",
   "name": "python3"
  },
  "language_info": {
   "codemirror_mode": {
    "name": "ipython",
    "version": 3
   },
   "file_extension": ".py",
   "mimetype": "text/x-python",
   "name": "python",
   "nbconvert_exporter": "python",
   "pygments_lexer": "ipython3",
   "version": "3.9.7"
  }
 },
 "nbformat": 4,
 "nbformat_minor": 5
}
